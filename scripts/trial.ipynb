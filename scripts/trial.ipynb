{
 "metadata": {
  "language_info": {
   "codemirror_mode": {
    "name": "ipython",
    "version": 3
   },
   "file_extension": ".py",
   "mimetype": "text/x-python",
   "name": "python",
   "nbconvert_exporter": "python",
   "pygments_lexer": "ipython3",
   "version": "3.9.0"
  },
  "orig_nbformat": 2,
  "kernelspec": {
   "name": "python3",
   "display_name": "Python 3.9.0 32-bit",
   "metadata": {
    "interpreter": {
     "hash": "830b6b378a54dd9e3da7c363ed1f91cf2803815c0d7a47ea55ff1d46763b52fe"
    }
   }
  }
 },
 "nbformat": 4,
 "nbformat_minor": 2,
 "cells": [
  {
   "cell_type": "code",
   "execution_count": 4,
   "metadata": {
    "tags": []
   },
   "outputs": [],
   "source": [
    "import pandas as pd\n",
    "from artwork_similarity import *\n",
    "\n",
    "artworks = pd.read_csv('../data/originales/Prado_artworks_wikidata.csv')['wd:paintingID']\n",
    "dc = DominantColorSimilarity()\n",
    "de = DepictsSimilarity(depth=4)\n",
    "sz = SizeSimilarity()\n",
    "at = ArtistSimilarity()\n",
    "ms = ImageMSESimilarity()\n",
    "\n",
    "for Q1 in artworks:\n",
    "    for Q2 in artworks:\n",
    "        dc.getSimilarity(Q1, Q2)\n",
    "        de.getSimilarity(Q1, Q2)\n",
    "        sz.getSimilarity(Q1, Q2)\n",
    "        at.getSimilarity(Q1, Q2)\n",
    "        ms.getSimilarity(Q1, Q2)\n",
    "\n",
    "dc.close()\n",
    "de.close()\n",
    "sz.close()\n",
    "at.close()\n",
    "ms.close()"
   ]
  },
  {
   "cell_type": "code",
   "execution_count": null,
   "metadata": {},
   "outputs": [],
   "source": []
  },
  {
   "cell_type": "code",
   "execution_count": null,
   "metadata": {},
   "outputs": [],
   "source": []
  }
 ]
}