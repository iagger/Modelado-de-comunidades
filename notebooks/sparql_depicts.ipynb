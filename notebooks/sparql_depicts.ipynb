{
 "metadata": {
  "language_info": {
   "codemirror_mode": {
    "name": "ipython",
    "version": 3
   },
   "file_extension": ".py",
   "mimetype": "text/x-python",
   "name": "python",
   "nbconvert_exporter": "python",
   "pygments_lexer": "ipython3",
   "version": "3.9.0-final"
  },
  "orig_nbformat": 2,
  "kernelspec": {
   "name": "python3",
   "display_name": "Python 3",
   "language": "python"
  }
 },
 "nbformat": 4,
 "nbformat_minor": 2,
 "cells": [
  {
   "cell_type": "code",
   "execution_count": 1,
   "metadata": {},
   "outputs": [],
   "source": [
    "from attributes_similarity import artistSimilarity, simalityAreaFromEntities\n",
    "from depict_similarity import artworkDepictSimilarity\n",
    "from similitud_dominantes import hsvSimilarity\n",
    "\n",
    "def artworksSimilarity(entity1, entity2):\n",
    "    totalSim = 0.\n",
    "\n",
    "    totalSim += artistSimilarity(entity1, entity2) * .25\n",
    "    totalSim += simalityAreaFromEntities(entity1, entity2) * .25\n",
    "    totalSim += artworkDepictSimilarity(entity1, entity2, 4) * .25\n",
    "    totalSim += hsvSimilarity(entity1, entity2) * .25\n",
    "\n",
    "    return totalSim\n",
    "\n"
   ]
  },
  {
   "cell_type": "code",
   "execution_count": 2,
   "metadata": {},
   "outputs": [
    {
     "output_type": "execute_result",
     "data": {
      "text/plain": [
       "[(0.9984704980150574, 'Saturn Devouring His Son'),\n",
       " (0.645474066722961, 'The nude maja'),\n",
       " (0.575547639903172, 'The Third of May 1808'),\n",
       " (0.5551221846399192, 'David and Goliath'),\n",
       " (0.5191211148694107, 'Noli Me Tangere'),\n",
       " (0.5131657443792373, \"Triptych of the Virgin's Life\"),\n",
       " (0.5100211524497172, 'Charles IV of Spain and his family'),\n",
       " (0.5031698781589877, 'Summer, or The Harvest'),\n",
       " (0.47140043498352585, 'The Straw Manikin'),\n",
       " (0.4592997871174366, 'The Surgeon')]"
      ]
     },
     "metadata": {},
     "execution_count": 2
    }
   ],
   "source": [
    "import pandas as pd\n",
    "import csv\n",
    "\n",
    "artworks = pd.read_csv('../data/originales/Prado_artworks_wikidata.csv')\n",
    "\n",
    "pivot_artwork = 'Q1150997' #Saturn Devouring His Son\n",
    "results = []\n",
    "\n",
    "with open('../data/originales/Prado_artworks_wikidata.csv') as data:\n",
    "    for row in csv.DictReader(data, delimiter=','):\n",
    "        sim = artworksSimilarity(row['wd:paintingID'], pivot_artwork)\n",
    "        results.append((sim, row['Title']))\n",
    "\n",
    "results.sort(reverse=True)\n",
    "results[:10]\n"
   ]
  },
  {
   "cell_type": "code",
   "execution_count": null,
   "metadata": {},
   "outputs": [],
   "source": []
  }
 ]
}