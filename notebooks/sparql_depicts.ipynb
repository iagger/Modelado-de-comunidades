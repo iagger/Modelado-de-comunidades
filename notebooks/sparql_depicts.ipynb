{
 "metadata": {
  "language_info": {
   "codemirror_mode": {
    "name": "ipython",
    "version": 3
   },
   "file_extension": ".py",
   "mimetype": "text/x-python",
   "name": "python",
   "nbconvert_exporter": "python",
   "pygments_lexer": "ipython3",
   "version": "3.9.0"
  },
  "orig_nbformat": 2,
  "kernelspec": {
   "name": "python3",
   "display_name": "Python 3",
   "language": "python"
  }
 },
 "nbformat": 4,
 "nbformat_minor": 2,
 "cells": [
  {
   "cell_type": "code",
   "execution_count": 1,
   "metadata": {},
   "outputs": [],
   "source": [
    "import requests\n",
    "import helpers\n",
    "\n",
    "def sparqlQuery(query):\n",
    "    url = 'https://query.wikidata.org/bigdata/namespace/wdq/sparql'\n",
    "    return requests.get(url, params={'query': query, 'format': 'json'}).json()\n",
    "\n",
    "def toDict(results):\n",
    "    var = results['head']['vars']\n",
    "    if (len(var) > 2):\n",
    "        raise ValueError('More than 2 results vars')\n",
    "    dic = {}\n",
    "    for item in results['results']['bindings']:\n",
    "        dic.update({ item[var[0]]['value'] : item[var[1]]['value'] })\n",
    "\n",
    "    return dic\n",
    "\n",
    "\n"
   ]
  },
  {
   "cell_type": "code",
   "execution_count": 2,
   "metadata": {},
   "outputs": [],
   "source": [
    "def retriveDepicts(painting=None):\n",
    "    if painting == None:\n",
    "        return None\n",
    "    \n",
    "    data = sparqlQuery(\"SELECT ?depicts ?depictsLabel WHERE { \" \\\n",
    "            \"    wd:\" + painting + \" wdt:P180 ?depicts.\" \\\n",
    "            \"    SERVICE wikibase:label { bd:serviceParam wikibase:language \\\"[AUTO_LANGUAGE],en\\\". }\" \\\n",
    "            \"}\" \\\n",
    "            \"LIMIT 100\")\n",
    "\n",
    "    return dict(map(lambda kv: (kv[0][kv[0].rindex(\"/\")+1:], kv[1]), toDict(data).items()))"
   ]
  },
  {
   "cell_type": "code",
   "execution_count": 3,
   "metadata": {},
   "outputs": [],
   "source": [
    "def retrieveSuperclass(obj=None):\n",
    "    if obj == None:\n",
    "        return None\n",
    "    data = sparqlQuery(\"SELECT ?instance ?instanceLabel WHERE {\" \\\n",
    "            \"   wd:\" + obj + \" wdt:P279|wdt:P31 ?instance.\" \\\n",
    "            \"   SERVICE wikibase:label { bd:serviceParam wikibase:language \\\"[AUTO_LANGUAGE],en\\\". }\" \\\n",
    "            \"}\" \\\n",
    "            \"LIMIT 100\")\n",
    "    return dict(map(lambda kv: (kv[0][kv[0].rindex(\"/\")+1:], kv[1]), toDict(data).items()))\n",
    "\n",
    "def retrieveSuperclassRecursively(obj=None, depth=1):\n",
    "    if depth < 1 or obj==None:\n",
    "        return None\n",
    "    queue = [obj]\n",
    "    res = {}\n",
    "    for d in range(0,depth):\n",
    "        new_objs = {}\n",
    "        while len(queue) > 0:\n",
    "            new_objs = new_objs | retrieveSuperclass(obj=queue.pop(0))\n",
    "        queue = [*new_objs]\n",
    "        res = res | new_objs\n",
    "    return res\n",
    "\n"
   ]
  },
  {
   "cell_type": "code",
   "execution_count": 4,
   "metadata": {},
   "outputs": [
    {
     "output_type": "execute_result",
     "data": {
      "text/plain": [
       "{'Q161936': 'Death',\n",
       " 'Q181146': 'Dos de Mayo Uprising',\n",
       " 'Q216169': 'execution by firing squad',\n",
       " 'Q486396': 'shotgun'}"
      ]
     },
     "metadata": {},
     "execution_count": 4
    }
   ],
   "source": [
    "painting1 = 'Q1091086'\n",
    "\n",
    "depicts = retriveDepicts(painting1) #The Third of May 1808\n",
    "\n",
    "depicts"
   ]
  },
  {
   "cell_type": "code",
   "execution_count": 5,
   "metadata": {},
   "outputs": [
    {
     "output_type": "execute_result",
     "data": {
      "text/plain": [
       "{'Q11446': 'ship',\n",
       " 'Q12791': 'sword',\n",
       " 'Q12796': 'firearm',\n",
       " 'Q14660': 'flag',\n",
       " 'Q44475': 'spear',\n",
       " 'Q81103': 'cannon',\n",
       " 'Q131559': 'shield',\n",
       " 'Q181469': 'galleon',\n",
       " 'Q1075310': 'sailboat',\n",
       " 'Q2167774': 'Cádiz Expedition',\n",
       " 'Q2207370': 'seat',\n",
       " 'Q3579211': 'combat helmet',\n",
       " 'Q50414774': 'armor'}"
      ]
     },
     "metadata": {},
     "execution_count": 5
    }
   ],
   "source": [
    "painting2 = 'Q5801323' \n",
    "\n",
    "depicts = retriveDepicts(painting2) #The Defense of Cadiz against the English\n",
    "\n",
    "depicts"
   ]
  },
  {
   "cell_type": "code",
   "execution_count": 6,
   "metadata": {},
   "outputs": [
    {
     "output_type": "execute_result",
     "data": {
      "text/plain": [
       "{'Q12796': 'firearm',\n",
       " 'Q15142889': 'weapon family',\n",
       " 'Q1046481': 'long gun',\n",
       " 'Q1064392': 'smoothbore'}"
      ]
     },
     "metadata": {},
     "execution_count": 6
    }
   ],
   "source": [
    "retrieveSuperclassRecursively(obj='Q486396', depth=1) #shotgun"
   ]
  },
  {
   "cell_type": "code",
   "execution_count": 10,
   "metadata": {},
   "outputs": [
    {
     "output_type": "execute_result",
     "data": {
      "text/plain": [
       "{'Q649107': 'pole weapon',\n",
       " 'Q768186': 'sports equipment',\n",
       " 'Q222405': 'close combat weapon',\n",
       " 'Q2184715': 'durable good',\n",
       " 'Q16798631': 'equipment',\n",
       " 'Q125734': 'personal weapon',\n",
       " 'Q28877': 'goods',\n",
       " 'Q2424752': 'product',\n",
       " 'Q8205328': 'artificial physical object'}"
      ]
     },
     "metadata": {},
     "execution_count": 10
    }
   ],
   "source": [
    "retrieveSuperclassRecursively(obj='Q44475', depth=3) #firearm"
   ]
  },
  {
   "cell_type": "code",
   "execution_count": null,
   "metadata": {},
   "outputs": [],
   "source": []
  }
 ]
}