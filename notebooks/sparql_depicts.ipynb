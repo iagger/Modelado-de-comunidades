{
 "metadata": {
  "language_info": {
   "codemirror_mode": {
    "name": "ipython",
    "version": 3
   },
   "file_extension": ".py",
   "mimetype": "text/x-python",
   "name": "python",
   "nbconvert_exporter": "python",
   "pygments_lexer": "ipython3",
   "version": "3.9.0"
  },
  "orig_nbformat": 2,
  "kernelspec": {
   "name": "python3",
   "display_name": "Python 3",
   "language": "python"
  }
 },
 "nbformat": 4,
 "nbformat_minor": 2,
 "cells": [
  {
   "cell_type": "code",
   "execution_count": 1,
   "metadata": {},
   "outputs": [],
   "source": [
    "import requests\n",
    "import helpers\n",
    "\n",
    "def sparqlQuery(query):\n",
    "    url = 'https://query.wikidata.org/bigdata/namespace/wdq/sparql'\n",
    "    return requests.get(url, params={'query': query, 'format': 'json'}).json()\n",
    "\n",
    "def toDict(results):\n",
    "    var = results['head']['vars']\n",
    "    if (len(var) > 2):\n",
    "        raise ValueError('More than 2 results vars')\n",
    "    dic = {}\n",
    "    for item in results['results']['bindings']:\n",
    "        dic.update({ item[var[0]]['value'] : item[var[1]]['value'] })\n",
    "\n",
    "    return dic\n",
    "\n",
    "\n"
   ]
  },
  {
   "cell_type": "code",
   "execution_count": 2,
   "metadata": {},
   "outputs": [],
   "source": [
    "def retriveDepicts(painting=None):\n",
    "    if painting == None:\n",
    "        return None\n",
    "    \n",
    "    data = sparqlQuery(\"SELECT ?depicts ?depictsLabel WHERE { \" \\\n",
    "            \"    wd:\" + painting + \" wdt:P180 ?depicts.\" \\\n",
    "            \"    SERVICE wikibase:label { bd:serviceParam wikibase:language \\\"[AUTO_LANGUAGE],en\\\". }\" \\\n",
    "            \"}\" \\\n",
    "            \"LIMIT 100\")\n",
    "\n",
    "    return dict(map(lambda kv: (kv[0][kv[0].rindex(\"/\")+1:], kv[1]), toDict(data).items()))"
   ]
  },
  {
   "cell_type": "code",
   "execution_count": 4,
   "metadata": {},
   "outputs": [
    {
     "output_type": "execute_result",
     "data": {
      "text/plain": [
       "{'Q8441': 'man',\n",
       " 'Q23640': 'head',\n",
       " 'Q41370': 'David',\n",
       " 'Q48422': 'cadaver',\n",
       " 'Q192785': 'Goliath'}"
      ]
     },
     "metadata": {},
     "execution_count": 4
    }
   ],
   "source": [
    "retriveDepicts(painting=\"Q2270955\")"
   ]
  },
  {
   "cell_type": "code",
   "execution_count": null,
   "metadata": {},
   "outputs": [],
   "source": [
    "def retrieveSuperclass(obj=None):\n",
    "    if obj == None:\n",
    "        return None\n",
    "    data = sparqlQuery(\"SELECT ?instance ?instanceLabel WHERE {\" \\\n",
    "            \"   wd:\" + obj + \" wdt:P279|wdt:P31 ?instance.\" \\\n",
    "            \"   SERVICE wikibase:label { bd:serviceParam wikibase:language \\\"[AUTO_LANGUAGE],en\\\". }\" \\\n",
    "            \"}\" \\\n",
    "            \"LIMIT 100\")\n",
    "    return dict(map(lambda kv: (kv[0][kv[0].rindex(\"/\")+1:], kv[1]), toDict(data).items()))\n"
   ]
  },
  {
   "cell_type": "code",
   "execution_count": 8,
   "metadata": {},
   "outputs": [
    {
     "output_type": "error",
     "ename": "ValueError",
     "evalue": "too many values to unpack (expected 2)",
     "traceback": [
      "\u001b[1;31m---------------------------------------------------------------------------\u001b[0m",
      "\u001b[1;31mValueError\u001b[0m                                Traceback (most recent call last)",
      "\u001b[1;32m<ipython-input-8-d4a176a725a6>\u001b[0m in \u001b[0;36m<module>\u001b[1;34m\u001b[0m\n\u001b[1;32m----> 1\u001b[1;33m \u001b[0mretrieveSuperclass\u001b[0m\u001b[1;33m(\u001b[0m\u001b[1;34m'Q8441'\u001b[0m\u001b[1;33m,\u001b[0m \u001b[0mrecursively\u001b[0m\u001b[1;33m=\u001b[0m\u001b[1;36m1\u001b[0m\u001b[1;33m)\u001b[0m\u001b[1;33m\u001b[0m\u001b[1;33m\u001b[0m\u001b[0m\n\u001b[0m",
      "\u001b[1;32m<ipython-input-7-442566265128>\u001b[0m in \u001b[0;36mretrieveSuperclass\u001b[1;34m(obj, recursively)\u001b[0m\n\u001b[0;32m     14\u001b[0m             \u001b[0mdata\u001b[0m \u001b[1;33m=\u001b[0m \u001b[0mtoDict\u001b[0m\u001b[1;33m(\u001b[0m\u001b[0mdata\u001b[0m\u001b[1;33m)\u001b[0m\u001b[1;33m\u001b[0m\u001b[1;33m\u001b[0m\u001b[0m\n\u001b[0;32m     15\u001b[0m             \u001b[0mdata\u001b[0m \u001b[1;33m=\u001b[0m \u001b[0mdict\u001b[0m\u001b[1;33m(\u001b[0m\u001b[0mmap\u001b[0m\u001b[1;33m(\u001b[0m\u001b[1;32mlambda\u001b[0m \u001b[0mkv\u001b[0m\u001b[1;33m:\u001b[0m \u001b[1;33m(\u001b[0m\u001b[0mkv\u001b[0m\u001b[1;33m[\u001b[0m\u001b[1;36m0\u001b[0m\u001b[1;33m]\u001b[0m\u001b[1;33m[\u001b[0m\u001b[0mkv\u001b[0m\u001b[1;33m[\u001b[0m\u001b[1;36m0\u001b[0m\u001b[1;33m]\u001b[0m\u001b[1;33m.\u001b[0m\u001b[0mrindex\u001b[0m\u001b[1;33m(\u001b[0m\u001b[1;34m\"/\"\u001b[0m\u001b[1;33m)\u001b[0m\u001b[1;33m+\u001b[0m\u001b[1;36m1\u001b[0m\u001b[1;33m:\u001b[0m\u001b[1;33m]\u001b[0m\u001b[1;33m,\u001b[0m \u001b[0mkv\u001b[0m\u001b[1;33m[\u001b[0m\u001b[1;36m1\u001b[0m\u001b[1;33m]\u001b[0m\u001b[1;33m)\u001b[0m\u001b[1;33m,\u001b[0m \u001b[0mdata\u001b[0m\u001b[1;33m.\u001b[0m\u001b[0mitems\u001b[0m\u001b[1;33m(\u001b[0m\u001b[1;33m)\u001b[0m\u001b[1;33m)\u001b[0m\u001b[1;33m)\u001b[0m\u001b[1;33m\u001b[0m\u001b[1;33m\u001b[0m\u001b[0m\n\u001b[1;32m---> 16\u001b[1;33m             \u001b[1;32mfor\u001b[0m \u001b[0mkey\u001b[0m\u001b[1;33m,\u001b[0m \u001b[0mvalue\u001b[0m \u001b[1;32min\u001b[0m \u001b[0mdata\u001b[0m\u001b[1;33m:\u001b[0m\u001b[1;33m\u001b[0m\u001b[1;33m\u001b[0m\u001b[0m\n\u001b[0m\u001b[0;32m     17\u001b[0m                 \u001b[0mres\u001b[0m\u001b[1;33m.\u001b[0m\u001b[0mupdate\u001b[0m\u001b[1;33m(\u001b[0m\u001b[1;33m{\u001b[0m \u001b[0mkey\u001b[0m\u001b[1;33m,\u001b[0m \u001b[0mvalue\u001b[0m \u001b[1;33m}\u001b[0m\u001b[1;33m)\u001b[0m\u001b[1;33m\u001b[0m\u001b[1;33m\u001b[0m\u001b[0m\n\u001b[0;32m     18\u001b[0m                 \u001b[0mprint\u001b[0m\u001b[1;33m(\u001b[0m\u001b[0mkey\u001b[0m\u001b[1;33m)\u001b[0m\u001b[1;33m\u001b[0m\u001b[1;33m\u001b[0m\u001b[0m\n",
      "\u001b[1;31mValueError\u001b[0m: too many values to unpack (expected 2)"
     ]
    }
   ],
   "source": [
    "retrieveSuperclass('Q8441')"
   ]
  },
  {
   "cell_type": "code",
   "execution_count": 6,
   "metadata": {},
   "outputs": [
    {
     "output_type": "execute_result",
     "data": {
      "text/plain": [
       "{'head': {'vars': ['instance', 'instanceLabel']},\n",
       " 'results': {'bindings': [{'instance': {'type': 'uri',\n",
       "     'value': 'http://www.wikidata.org/entity/Q188193'},\n",
       "    'instanceLabel': {'xml:lang': 'en',\n",
       "     'type': 'literal',\n",
       "     'value': 'sistema endocri'}},\n",
       "   {'instance': {'type': 'uri',\n",
       "     'value': 'http://www.wikidata.org/entity/Q17781690'},\n",
       "    'instanceLabel': {'xml:lang': 'en',\n",
       "     'type': 'literal',\n",
       "     'value': 'cardinal body part'}}]}}"
      ]
     },
     "metadata": {},
     "execution_count": 6
    }
   ],
   "source": [
    "sparqlQuery(\"SELECT ?instance ?instanceLabel WHERE {\" \\\n",
    "            \"wd:Q23640 wdt:P279|wdt:P31 ?instance.\" \\\n",
    "            \"SERVICE wikibase:label { bd:serviceParam wikibase:language \\\"[AUTO_LANGUAGE],en\\\". }\" \\\n",
    "            \"}\" \\\n",
    "            \"LIMIT 100\")"
   ]
  },
  {
   "cell_type": "code",
   "execution_count": null,
   "metadata": {},
   "outputs": [],
   "source": []
  }
 ]
}