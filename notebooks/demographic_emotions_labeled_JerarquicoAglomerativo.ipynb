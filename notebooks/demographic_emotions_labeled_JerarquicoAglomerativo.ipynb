{
 "cells": [
  {
   "cell_type": "markdown",
   "metadata": {},
   "source": [
    "# Clusters de datos demográficos y emociones sobre las obras (Jerarquico aglomerativo) etiquetados con FCA"
   ]
  },
  {
   "cell_type": "markdown",
   "metadata": {},
   "source": [
    "## Carga de los datos\n",
    "Cargamos los datos y retocamos algún campo. Preparamos el dataFrame con la valoración que tiene cada usuario de una categoría de cuadro."
   ]
  },
  {
   "cell_type": "code",
   "execution_count": 1,
   "metadata": {},
   "outputs": [],
   "source": [
    "import pandas as pd\n",
    "import numpy as np "
   ]
  },
  {
   "cell_type": "code",
   "execution_count": 2,
   "metadata": {},
   "outputs": [],
   "source": [
    "# Cargamos los distintos dataset\n",
    "Prado_users = pd.read_csv('../data/originales/Prado_users.csv')\n",
    "Prado_emotions = pd.read_csv('../data/originales/Prado_emotions.csv')\n",
    "Prado_artworks_wikidata = pd.read_csv('../data/originales/Prado_artworks_wikidata.csv')"
   ]
  },
  {
   "cell_type": "code",
   "execution_count": 3,
   "metadata": {},
   "outputs": [
    {
     "data": {
      "text/html": [
       "<div>\n",
       "<style scoped>\n",
       "    .dataframe tbody tr th:only-of-type {\n",
       "        vertical-align: middle;\n",
       "    }\n",
       "\n",
       "    .dataframe tbody tr th {\n",
       "        vertical-align: top;\n",
       "    }\n",
       "\n",
       "    .dataframe thead th {\n",
       "        text-align: right;\n",
       "    }\n",
       "</style>\n",
       "<table border=\"1\" class=\"dataframe\">\n",
       "  <thead>\n",
       "    <tr style=\"text-align: right;\">\n",
       "      <th></th>\n",
       "      <th>userId</th>\n",
       "      <th>age</th>\n",
       "      <th>gender</th>\n",
       "      <th>country</th>\n",
       "    </tr>\n",
       "  </thead>\n",
       "  <tbody>\n",
       "    <tr>\n",
       "      <th>0</th>\n",
       "      <td>1</td>\n",
       "      <td>55-64</td>\n",
       "      <td>male</td>\n",
       "      <td>Spain</td>\n",
       "    </tr>\n",
       "    <tr>\n",
       "      <th>1</th>\n",
       "      <td>2</td>\n",
       "      <td>25-34</td>\n",
       "      <td>female</td>\n",
       "      <td>Spain</td>\n",
       "    </tr>\n",
       "    <tr>\n",
       "      <th>2</th>\n",
       "      <td>3</td>\n",
       "      <td>18-24</td>\n",
       "      <td>female</td>\n",
       "      <td>Spain</td>\n",
       "    </tr>\n",
       "    <tr>\n",
       "      <th>3</th>\n",
       "      <td>4</td>\n",
       "      <td>18-24</td>\n",
       "      <td>female</td>\n",
       "      <td>Spain</td>\n",
       "    </tr>\n",
       "    <tr>\n",
       "      <th>4</th>\n",
       "      <td>5</td>\n",
       "      <td>35-44</td>\n",
       "      <td>male</td>\n",
       "      <td>Spain</td>\n",
       "    </tr>\n",
       "  </tbody>\n",
       "</table>\n",
       "</div>"
      ],
      "text/plain": [
       "   userId    age  gender country\n",
       "0       1  55-64    male   Spain\n",
       "1       2  25-34  female   Spain\n",
       "2       3  18-24  female   Spain\n",
       "3       4  18-24  female   Spain\n",
       "4       5  35-44    male   Spain"
      ]
     },
     "execution_count": 3,
     "metadata": {},
     "output_type": "execute_result"
    }
   ],
   "source": [
    "# Preparamos los datos (demograficos)\n",
    "Prado_users.replace('<12', '0-12', inplace=True)\n",
    "Prado_users.replace('>70', '70+', inplace=True)\n",
    "Prado_users.replace('Argenitina', 'Argentina', inplace=True)\n",
    "Prado_users.replace('USA', 'United States', inplace=True)\n",
    "\n",
    "users = Prado_users.copy()\n",
    "users.head()"
   ]
  },
  {
   "cell_type": "code",
   "execution_count": 7,
   "metadata": {},
   "outputs": [
    {
     "name": "stdout",
     "output_type": "stream",
     "text": [
      "   userId                 artworkId  emotion  Polarity\n",
      "0       6  5772700eedc2cb3880bc82ce    trust  positive\n",
      "1      20  5772700eedc2cb3880bc82ce     fear  negative\n",
      "2      20  5772700eedc2cb3880bc82ce  sadness  negative\n",
      "3      73  5772700eedc2cb3880bc82ce  sadness  negative\n",
      "4       3  5772700eedc2cb3880bc82ce     fear  negative\n"
     ]
    }
   ],
   "source": [
    "print(Prado_emotions.head())\n"
   ]
  },
  {
   "cell_type": "code",
   "execution_count": null,
   "metadata": {},
   "outputs": [],
   "source": [
    "# Juntamos los dataset\n",
    "\n",
    "for cat in Prado_artworks_wikidata['Category'].unique():\n",
    "    users_val[cat]=np.zeros(users_val.shape[0])\n",
    "\n",
    "Prado_emotions.replace('positive', 1., inplace=True)\n",
    "Prado_emotions.replace('negative', -1., inplace=True)\n",
    "Prado_emotions.replace('mixed', 0., inplace=True)\n",
    "\n",
    "for i, row in Prado_emotions.iterrows():\n",
    "    cat=Prado_artworks_wikidata.loc[Prado_artworks_wikidata['ID']==row['artworkId'], 'Category'].to_list()[0]\n",
    "    users_val.loc[users_val['userId']==row['userId'], cat] += row['Polarity']\n",
    "\n",
    "users = users_val.copy()\n",
    "users_val.head()"
   ]
  }
 ],
 "metadata": {
  "kernelspec": {
   "display_name": "Python 3",
   "language": "python",
   "name": "python3"
  },
  "language_info": {
   "codemirror_mode": {
    "name": "ipython",
    "version": 3
   },
   "file_extension": ".py",
   "mimetype": "text/x-python",
   "name": "python",
   "nbconvert_exporter": "python",
   "pygments_lexer": "ipython3",
   "version": "3.7.3"
  }
 },
 "nbformat": 4,
 "nbformat_minor": 2
}
