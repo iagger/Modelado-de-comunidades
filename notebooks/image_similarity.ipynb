{
 "metadata": {
  "language_info": {
   "codemirror_mode": {
    "name": "ipython",
    "version": 3
   },
   "file_extension": ".py",
   "mimetype": "text/x-python",
   "name": "python",
   "nbconvert_exporter": "python",
   "pygments_lexer": "ipython3",
   "version": "3.9.0"
  },
  "orig_nbformat": 2,
  "kernelspec": {
   "name": "python3",
   "display_name": "Python 3.9.0 32-bit",
   "metadata": {
    "interpreter": {
     "hash": "8b0bde1435ff1bba96a34b546b934890c0f0dc1cf598fd5b4a24d2412337a2e4"
    }
   }
  }
 },
 "nbformat": 4,
 "nbformat_minor": 2,
 "cells": [
  {
   "cell_type": "code",
   "execution_count": 1,
   "metadata": {},
   "outputs": [],
   "source": [
    "from PIL import Image\n",
    "import numpy as np\n",
    "import requests\n",
    "\n",
    "def load_image(url) :\n",
    "    img = Image.open(requests.get(url, stream=True).raw)\n",
    "    img.load()\n",
    "    data = np.asarray( img, dtype=\"int32\" )\n",
    "    return data"
   ]
  },
  {
   "cell_type": "code",
   "execution_count": 2,
   "metadata": {},
   "outputs": [
    {
     "output_type": "error",
     "ename": "ValueError",
     "evalue": "Supply a single scale, or one value per spatial axis",
     "traceback": [
      "\u001b[1;31m---------------------------------------------------------------------------\u001b[0m",
      "\u001b[1;31mValueError\u001b[0m                                Traceback (most recent call last)",
      "\u001b[1;32m<ipython-input-2-3835a596cb91>\u001b[0m in \u001b[0;36m<module>\u001b[1;34m\u001b[0m\n\u001b[0;32m      6\u001b[0m \u001b[0mcommon_size\u001b[0m \u001b[1;33m=\u001b[0m \u001b[1;33m(\u001b[0m\u001b[1;36m1000\u001b[0m\u001b[1;33m,\u001b[0m\u001b[1;36m1000\u001b[0m\u001b[1;33m)\u001b[0m\u001b[1;33m\u001b[0m\u001b[1;33m\u001b[0m\u001b[0m\n\u001b[0;32m      7\u001b[0m \u001b[1;33m\u001b[0m\u001b[0m\n\u001b[1;32m----> 8\u001b[1;33m \u001b[0madapted_rand_error\u001b[0m\u001b[1;33m(\u001b[0m\u001b[0mimage_true\u001b[0m\u001b[1;33m=\u001b[0m\u001b[0mrescale\u001b[0m\u001b[1;33m(\u001b[0m\u001b[0mthird_of_may\u001b[0m\u001b[1;33m,\u001b[0m \u001b[0mscale\u001b[0m\u001b[1;33m=\u001b[0m\u001b[0mcommon_size\u001b[0m\u001b[1;33m,\u001b[0m \u001b[0manti_aliasing\u001b[0m\u001b[1;33m=\u001b[0m\u001b[1;32mTrue\u001b[0m\u001b[1;33m)\u001b[0m\u001b[1;33m,\u001b[0m \u001b[0mimage_test\u001b[0m\u001b[1;33m=\u001b[0m\u001b[0mrescale\u001b[0m\u001b[1;33m(\u001b[0m\u001b[0mdefense_of_cadiz\u001b[0m\u001b[1;33m,\u001b[0m \u001b[0mscale\u001b[0m\u001b[1;33m=\u001b[0m\u001b[0mcommon_size\u001b[0m\u001b[1;33m,\u001b[0m \u001b[0manti_aliasing\u001b[0m\u001b[1;33m=\u001b[0m\u001b[1;32mTrue\u001b[0m\u001b[1;33m)\u001b[0m\u001b[1;33m)\u001b[0m\u001b[1;33m\u001b[0m\u001b[1;33m\u001b[0m\u001b[0m\n\u001b[0m",
      "\u001b[1;32mc:\\users\\iago7\\appdata\\local\\programs\\python\\python39-32\\lib\\site-packages\\skimage\\transform\\_warps.py\u001b[0m in \u001b[0;36mrescale\u001b[1;34m(image, scale, order, mode, cval, clip, preserve_range, multichannel, anti_aliasing, anti_aliasing_sigma)\u001b[0m\n\u001b[0;32m    279\u001b[0m         if ((not multichannel and len(scale) != image.ndim) or\n\u001b[0;32m    280\u001b[0m                 (multichannel and len(scale) != image.ndim - 1)):\n\u001b[1;32m--> 281\u001b[1;33m             raise ValueError(\"Supply a single scale, or one value per spatial \"\n\u001b[0m\u001b[0;32m    282\u001b[0m                              \"axis\")\n\u001b[0;32m    283\u001b[0m         \u001b[1;32mif\u001b[0m \u001b[0mmultichannel\u001b[0m\u001b[1;33m:\u001b[0m\u001b[1;33m\u001b[0m\u001b[1;33m\u001b[0m\u001b[0m\n",
      "\u001b[1;31mValueError\u001b[0m: Supply a single scale, or one value per spatial axis"
     ]
    }
   ],
   "source": [
    "from skimage.metrics import adapted_rand_error\n",
    "from skimage.transform import rescale\n",
    "\n",
    "third_of_may = load_image('https://uploads4.wikiart.org/images/francisco-goya/execution-of-the-defenders-of-madrid-3rd-may-1808-1814.jpg!Large.jpg')\n",
    "defense_of_cadiz = load_image('https://uploads8.wikiart.org/images/francisco-zurbaran/the-defence-of-cadiz-against-the-english-1634.jpg!Large.jpg')\n",
    "\n",
    "adapted_rand_error(image_true=rescale(third_of_may, scale=(500,500), anti_aliasing=True), image_test=rescale(defense_of_cadiz, scale=(500,500), anti_aliasing=True))"
   ]
  },
  {
   "cell_type": "code",
   "execution_count": 11,
   "metadata": {},
   "outputs": [
    {
     "output_type": "stream",
     "name": "stdout",
     "text": [
      "Help on function rescale in module skimage.transform._warps:\n\nrescale(image, scale, order=None, mode='reflect', cval=0, clip=True, preserve_range=False, multichannel=False, anti_aliasing=None, anti_aliasing_sigma=None)\n    Scale image by a certain factor.\n    \n    Performs interpolation to up-scale or down-scale N-dimensional images.\n    Note that anti-aliasing should be enabled when down-sizing images to avoid\n    aliasing artifacts. For down-sampling with an integer factor also see\n    `skimage.transform.downscale_local_mean`.\n    \n    Parameters\n    ----------\n    image : ndarray\n        Input image.\n    scale : {float, tuple of floats}\n        Scale factors. Separate scale factors can be defined as\n        `(rows, cols[, ...][, dim])`.\n    \n    Returns\n    -------\n    scaled : ndarray\n        Scaled version of the input.\n    \n    Other parameters\n    ----------------\n    order : int, optional\n        The order of the spline interpolation, default is 0 if\n        image.dtype is bool and 1 otherwise. The order has to be in\n        the range 0-5. See `skimage.transform.warp` for detail.\n    mode : {'constant', 'edge', 'symmetric', 'reflect', 'wrap'}, optional\n        Points outside the boundaries of the input are filled according\n        to the given mode.  Modes match the behaviour of `numpy.pad`.\n    cval : float, optional\n        Used in conjunction with mode 'constant', the value outside\n        the image boundaries.\n    clip : bool, optional\n        Whether to clip the output to the range of values of the input image.\n        This is enabled by default, since higher order interpolation may\n        produce values outside the given input range.\n    preserve_range : bool, optional\n        Whether to keep the original range of values. Otherwise, the input\n        image is converted according to the conventions of `img_as_float`.\n        Also see\n        https://scikit-image.org/docs/dev/user_guide/data_types.html\n    multichannel : bool, optional\n        Whether the last axis of the image is to be interpreted as multiple\n        channels or another spatial dimension.\n    anti_aliasing : bool, optional\n        Whether to apply a Gaussian filter to smooth the image prior\n        to down-scaling. It is crucial to filter when down-sampling\n        the image to avoid aliasing artifacts. If input image data\n        type is bool, no anti-aliasing is applied.\n    anti_aliasing_sigma : {float, tuple of floats}, optional\n        Standard deviation for Gaussian filtering to avoid aliasing artifacts.\n        By default, this value is chosen as (s - 1) / 2 where s is the\n        down-scaling factor.\n    \n    Notes\n    -----\n    Modes 'reflect' and 'symmetric' are similar, but differ in whether the edge\n    pixels are duplicated during the reflection.  As an example, if an array\n    has values [0, 1, 2] and was padded to the right by four values using\n    symmetric, the result would be [0, 1, 2, 2, 1, 0, 0], while for reflect it\n    would be [0, 1, 2, 1, 0, 1, 2].\n    \n    Examples\n    --------\n    >>> from skimage import data\n    >>> from skimage.transform import rescale\n    >>> image = data.camera()\n    >>> rescale(image, 0.1).shape\n    (51, 51)\n    >>> rescale(image, 0.5).shape\n    (256, 256)\n\n"
     ]
    }
   ],
   "source": [
    "from skimage.transform import rescale\n",
    "help(rescale)"
   ]
  },
  {
   "cell_type": "code",
   "execution_count": null,
   "metadata": {},
   "outputs": [],
   "source": []
  }
 ]
}