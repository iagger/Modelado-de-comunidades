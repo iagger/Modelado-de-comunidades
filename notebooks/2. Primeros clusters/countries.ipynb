{
 "metadata": {
  "language_info": {
   "codemirror_mode": {
    "name": "ipython",
    "version": 3
   },
   "file_extension": ".py",
   "mimetype": "text/x-python",
   "name": "python",
   "nbconvert_exporter": "python",
   "pygments_lexer": "ipython3",
   "version": "3.8.2-final"
  },
  "orig_nbformat": 2,
  "kernelspec": {
   "name": "python3",
   "display_name": "Python 3",
   "language": "python"
  }
 },
 "nbformat": 4,
 "nbformat_minor": 2,
 "cells": [
  {
   "cell_type": "code",
   "execution_count": 1,
   "metadata": {},
   "outputs": [],
   "source": [
    "import pandas as pd\n",
    "import numpy as np"
   ]
  },
  {
   "cell_type": "code",
   "execution_count": 2,
   "metadata": {},
   "outputs": [],
   "source": [
    "countries = pd.read_csv('../data/countries.csv')"
   ]
  },
  {
   "cell_type": "code",
   "execution_count": 3,
   "metadata": {},
   "outputs": [
    {
     "output_type": "execute_result",
     "data": {
      "text/plain": [
       "Index(['Country', 'Region', 'Population', 'Area (sq. mi.)',\n",
       "       'Pop. Density (per sq. mi.)', 'Coastline (coast/area ratio)',\n",
       "       'Net migration', 'Infant mortality (per 1000 births)',\n",
       "       'GDP (USD per capita)', 'Literacy (%)', 'Phones (per 1000)',\n",
       "       'Arable (%)', 'Crops (%)', 'Other (%)', 'Climate', 'Birthrate',\n",
       "       'Deathrate', 'Agriculture', 'Industry', 'Service'],\n",
       "      dtype='object')"
      ]
     },
     "metadata": {},
     "execution_count": 3
    }
   ],
   "source": [
    "countries.columns"
   ]
  },
  {
   "cell_type": "code",
   "execution_count": 4,
   "metadata": {},
   "outputs": [
    {
     "output_type": "execute_result",
     "data": {
      "text/plain": [
       "            Country  Literacy (%)  GDP (USD per capita)  Punctuation\n",
       "154          Norway         100.0               37800.0   100.000000\n",
       "214   United States          97.0               37800.0    97.000000\n",
       "22          Bermuda          98.0               36000.0    96.419078\n",
       "38   Cayman Islands          98.0               35000.0    95.517913\n",
       "196     Switzerland          99.0               32700.0    94.330871\n",
       "..              ...           ...                   ...          ...\n",
       "0       Afghanistan          36.0                 700.0     9.524406\n",
       "188         Somalia          37.8                 500.0     8.939595\n",
       "31     Burkina Faso          26.6                1100.0     8.181795\n",
       "183    Sierra Leone          31.4                 500.0     7.426013\n",
       "151           Niger          17.6                 800.0     4.868316\n",
       "\n",
       "[208 rows x 4 columns]"
      ],
      "text/html": "<div>\n<style scoped>\n    .dataframe tbody tr th:only-of-type {\n        vertical-align: middle;\n    }\n\n    .dataframe tbody tr th {\n        vertical-align: top;\n    }\n\n    .dataframe thead th {\n        text-align: right;\n    }\n</style>\n<table border=\"1\" class=\"dataframe\">\n  <thead>\n    <tr style=\"text-align: right;\">\n      <th></th>\n      <th>Country</th>\n      <th>Literacy (%)</th>\n      <th>GDP (USD per capita)</th>\n      <th>Punctuation</th>\n    </tr>\n  </thead>\n  <tbody>\n    <tr>\n      <th>154</th>\n      <td>Norway</td>\n      <td>100.0</td>\n      <td>37800.0</td>\n      <td>100.000000</td>\n    </tr>\n    <tr>\n      <th>214</th>\n      <td>United States</td>\n      <td>97.0</td>\n      <td>37800.0</td>\n      <td>97.000000</td>\n    </tr>\n    <tr>\n      <th>22</th>\n      <td>Bermuda</td>\n      <td>98.0</td>\n      <td>36000.0</td>\n      <td>96.419078</td>\n    </tr>\n    <tr>\n      <th>38</th>\n      <td>Cayman Islands</td>\n      <td>98.0</td>\n      <td>35000.0</td>\n      <td>95.517913</td>\n    </tr>\n    <tr>\n      <th>196</th>\n      <td>Switzerland</td>\n      <td>99.0</td>\n      <td>32700.0</td>\n      <td>94.330871</td>\n    </tr>\n    <tr>\n      <th>...</th>\n      <td>...</td>\n      <td>...</td>\n      <td>...</td>\n      <td>...</td>\n    </tr>\n    <tr>\n      <th>0</th>\n      <td>Afghanistan</td>\n      <td>36.0</td>\n      <td>700.0</td>\n      <td>9.524406</td>\n    </tr>\n    <tr>\n      <th>188</th>\n      <td>Somalia</td>\n      <td>37.8</td>\n      <td>500.0</td>\n      <td>8.939595</td>\n    </tr>\n    <tr>\n      <th>31</th>\n      <td>Burkina Faso</td>\n      <td>26.6</td>\n      <td>1100.0</td>\n      <td>8.181795</td>\n    </tr>\n    <tr>\n      <th>183</th>\n      <td>Sierra Leone</td>\n      <td>31.4</td>\n      <td>500.0</td>\n      <td>7.426013</td>\n    </tr>\n    <tr>\n      <th>151</th>\n      <td>Niger</td>\n      <td>17.6</td>\n      <td>800.0</td>\n      <td>4.868316</td>\n    </tr>\n  </tbody>\n</table>\n<p>208 rows × 4 columns</p>\n</div>"
     },
     "metadata": {},
     "execution_count": 4
    }
   ],
   "source": [
    "distance = pd.DataFrame()\n",
    "distance['Country'] = countries['Country']\n",
    "distance['Literacy (%)'] = countries['Literacy (%)']\n",
    "distance['GDP (USD per capita)'] = countries['GDP (USD per capita)']\n",
    "\n",
    "distance['Country'] = distance['Country'].apply(lambda x : x.strip())\n",
    "\n",
    "distance.drop(distance.loc[distance['Country'] == 'Luxembourg'].index, inplace=True)\n",
    "distance.dropna(axis=0, inplace=True)\n",
    "\n",
    "distance['Punctuation'] = (distance['Literacy (%)'])  * (distance['GDP (USD per capita)'] ** (1/3))\n",
    "\n",
    "distance['Punctuation'] = (distance['Punctuation'] * 100) / distance['Punctuation'].max()\n",
    "\n",
    "distance.sort_values(by=['Punctuation'], ascending = False, inplace= True)\n",
    "\n",
    "distance.to_csv('../data/Countries_distance.csv', index=False)\n",
    "\n",
    "distance"
   ]
  },
  {
   "cell_type": "code",
   "execution_count": null,
   "metadata": {},
   "outputs": [],
   "source": []
  }
 ]
}