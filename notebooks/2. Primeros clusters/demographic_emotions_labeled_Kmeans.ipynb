{
 "metadata": {
  "language_info": {
   "codemirror_mode": {
    "name": "ipython",
    "version": 3
   },
   "file_extension": ".py",
   "mimetype": "text/x-python",
   "name": "python",
   "nbconvert_exporter": "python",
   "pygments_lexer": "ipython3",
   "version": "3.8.2-final"
  },
  "orig_nbformat": 2,
  "kernelspec": {
   "name": "python3",
   "display_name": "Python 3",
   "language": "python"
  }
 },
 "nbformat": 4,
 "nbformat_minor": 2,
 "cells": [
  {
   "source": [
    "# Clusters de datos demográficos y emociones sobre las obras (Kmeans) etiquetados con FCA"
   ],
   "cell_type": "markdown",
   "metadata": {}
  },
  {
   "source": [
    "## Carga de los datos\n",
    "Cargamos los datos y retocamos algún campo. Preparamos el dataFrame con la valoración que tiene cada usuario de una categoría de cuadro."
   ],
   "cell_type": "markdown",
   "metadata": {}
  },
  {
   "cell_type": "code",
   "execution_count": 1,
   "metadata": {},
   "outputs": [],
   "source": [
    "import pandas as pd\n",
    "import numpy as np "
   ]
  },
  {
   "cell_type": "code",
   "execution_count": 2,
   "metadata": {
    "tags": []
   },
   "outputs": [
    {
     "output_type": "execute_result",
     "data": {
      "text/plain": [
       "   userId    age  gender country\n",
       "0       1  55-64    male   Spain\n",
       "1       2  25-34  female   Spain\n",
       "2       3  18-24  female   Spain\n",
       "3       4  18-24  female   Spain\n",
       "4       5  35-44    male   Spain"
      ],
      "text/html": "<div>\n<style scoped>\n    .dataframe tbody tr th:only-of-type {\n        vertical-align: middle;\n    }\n\n    .dataframe tbody tr th {\n        vertical-align: top;\n    }\n\n    .dataframe thead th {\n        text-align: right;\n    }\n</style>\n<table border=\"1\" class=\"dataframe\">\n  <thead>\n    <tr style=\"text-align: right;\">\n      <th></th>\n      <th>userId</th>\n      <th>age</th>\n      <th>gender</th>\n      <th>country</th>\n    </tr>\n  </thead>\n  <tbody>\n    <tr>\n      <th>0</th>\n      <td>1</td>\n      <td>55-64</td>\n      <td>male</td>\n      <td>Spain</td>\n    </tr>\n    <tr>\n      <th>1</th>\n      <td>2</td>\n      <td>25-34</td>\n      <td>female</td>\n      <td>Spain</td>\n    </tr>\n    <tr>\n      <th>2</th>\n      <td>3</td>\n      <td>18-24</td>\n      <td>female</td>\n      <td>Spain</td>\n    </tr>\n    <tr>\n      <th>3</th>\n      <td>4</td>\n      <td>18-24</td>\n      <td>female</td>\n      <td>Spain</td>\n    </tr>\n    <tr>\n      <th>4</th>\n      <td>5</td>\n      <td>35-44</td>\n      <td>male</td>\n      <td>Spain</td>\n    </tr>\n  </tbody>\n</table>\n</div>"
     },
     "metadata": {},
     "execution_count": 2
    }
   ],
   "source": [
    "Prado_users = pd.read_csv('../data/originales/Prado_users.csv')\n",
    "Prado_emotions = pd.read_csv('../data/originales/Prado_emotions.csv')\n",
    "Prado_artworks_wikidata = pd.read_csv('../data/originales/Prado_artworks_wikidata.csv')\n",
    "\n",
    "Prado_users.replace('<12', '0-12', inplace=True)\n",
    "Prado_users.replace('>70', '70+', inplace=True)\n",
    "Prado_users.replace('Argenitina', 'Argentina', inplace=True)\n",
    "Prado_users.replace('USA', 'United States', inplace=True)\n",
    "\n",
    "users_val = Prado_users.copy()\n",
    "\n",
    "users_val.head()"
   ]
  },
  {
   "cell_type": "code",
   "execution_count": 3,
   "metadata": {},
   "outputs": [
    {
     "output_type": "execute_result",
     "data": {
      "text/plain": [
       "   userId    age  gender country  Romanticism  High Renaissance  \\\n",
       "0       1  55-64    male   Spain          2.0               0.0   \n",
       "1       2  25-34  female   Spain         -1.0               0.0   \n",
       "2       3  18-24  female   Spain          3.0               0.0   \n",
       "3       4  18-24  female   Spain          4.0               0.0   \n",
       "4       5  35-44    male   Spain          5.0               3.0   \n",
       "\n",
       "   Northern Renaissance  Baroque  \n",
       "0                  -2.0      0.0  \n",
       "1                   0.0      0.0  \n",
       "2                  -3.0      2.0  \n",
       "3                   0.0      0.0  \n",
       "4                  -1.0      0.0  "
      ],
      "text/html": "<div>\n<style scoped>\n    .dataframe tbody tr th:only-of-type {\n        vertical-align: middle;\n    }\n\n    .dataframe tbody tr th {\n        vertical-align: top;\n    }\n\n    .dataframe thead th {\n        text-align: right;\n    }\n</style>\n<table border=\"1\" class=\"dataframe\">\n  <thead>\n    <tr style=\"text-align: right;\">\n      <th></th>\n      <th>userId</th>\n      <th>age</th>\n      <th>gender</th>\n      <th>country</th>\n      <th>Romanticism</th>\n      <th>High Renaissance</th>\n      <th>Northern Renaissance</th>\n      <th>Baroque</th>\n    </tr>\n  </thead>\n  <tbody>\n    <tr>\n      <th>0</th>\n      <td>1</td>\n      <td>55-64</td>\n      <td>male</td>\n      <td>Spain</td>\n      <td>2.0</td>\n      <td>0.0</td>\n      <td>-2.0</td>\n      <td>0.0</td>\n    </tr>\n    <tr>\n      <th>1</th>\n      <td>2</td>\n      <td>25-34</td>\n      <td>female</td>\n      <td>Spain</td>\n      <td>-1.0</td>\n      <td>0.0</td>\n      <td>0.0</td>\n      <td>0.0</td>\n    </tr>\n    <tr>\n      <th>2</th>\n      <td>3</td>\n      <td>18-24</td>\n      <td>female</td>\n      <td>Spain</td>\n      <td>3.0</td>\n      <td>0.0</td>\n      <td>-3.0</td>\n      <td>2.0</td>\n    </tr>\n    <tr>\n      <th>3</th>\n      <td>4</td>\n      <td>18-24</td>\n      <td>female</td>\n      <td>Spain</td>\n      <td>4.0</td>\n      <td>0.0</td>\n      <td>0.0</td>\n      <td>0.0</td>\n    </tr>\n    <tr>\n      <th>4</th>\n      <td>5</td>\n      <td>35-44</td>\n      <td>male</td>\n      <td>Spain</td>\n      <td>5.0</td>\n      <td>3.0</td>\n      <td>-1.0</td>\n      <td>0.0</td>\n    </tr>\n  </tbody>\n</table>\n</div>"
     },
     "metadata": {},
     "execution_count": 3
    }
   ],
   "source": [
    "# category valoration\n",
    "for cat in Prado_artworks_wikidata['Category'].unique():\n",
    "    users_val[cat]=np.zeros(users_val.shape[0])\n",
    "\n",
    "Prado_emotions.replace('positive', 1., inplace=True)\n",
    "Prado_emotions.replace('negative', -1., inplace=True)\n",
    "Prado_emotions.replace('mixed', 0., inplace=True)\n",
    "\n",
    "for i, row in Prado_emotions.iterrows():\n",
    "    cat=Prado_artworks_wikidata.loc[Prado_artworks_wikidata['ID']==row['artworkId'], 'Category'].to_list()[0]\n",
    "    users_val.loc[users_val['userId']==row['userId'], cat] += row['Polarity']\n",
    "\n",
    "users = users_val.copy()\n",
    "users_val.head()"
   ]
  },
  {
   "source": [
    "## Propuesta de medidas de similitud para cada campo\n",
    "- Para el campo de edad colocamos una distancia de uno entre cada rango de edad consecutivo\n",
    "- Para el género utilizaremos 0 y 1 respectivamente\n",
    "- Para el país utilizaremos el índice descrito en *Countries_distance.csv*"
   ],
   "cell_type": "markdown",
   "metadata": {}
  },
  {
   "cell_type": "code",
   "execution_count": 4,
   "metadata": {},
   "outputs": [],
   "source": [
    "# Edad\n",
    "age_index = 1\n",
    "for age_range in users['age'].unique():\n",
    "    users = users.replace(age_range, age_index)\n",
    "    age_index += 1\n",
    "\n",
    "# gender\n",
    "users = users.replace('female', 0)\n",
    "users = users.replace('male', 1)\n",
    "\n",
    "# country\n",
    "country_punctuation = pd.read_csv('../data/Countries_distance.csv')\n",
    "\n",
    "for country in users['country'].unique():\n",
    "    if country != 'Other':\n",
    "        users = users.replace(country, country_punctuation.loc[country_punctuation['Country'] == country, 'Punctuation'].to_list()[0])\n",
    "    \n",
    "\n",
    "users = users.replace('Other', .70)\n"
   ]
  },
  {
   "source": [
    "## Escalado de los datos"
   ],
   "cell_type": "markdown",
   "metadata": {}
  },
  {
   "cell_type": "code",
   "execution_count": 5,
   "metadata": {},
   "outputs": [
    {
     "output_type": "execute_result",
     "data": {
      "text/plain": [
       "             age    gender   country  Romanticism  High Renaissance  \\\n",
       "userId                                                                \n",
       "1       0.500137  2.021723  2.508838     0.922735          0.000000   \n",
       "2       1.000274  0.000000  2.508838    -0.461368          0.000000   \n",
       "3       1.500411  0.000000  2.508838     1.384103          0.000000   \n",
       "4       1.500411  0.000000  2.508838     1.845470          0.000000   \n",
       "5       2.000547  2.021723  2.508838     2.306838          3.542399   \n",
       "6       2.000547  0.000000  2.508838     2.306838          0.000000   \n",
       "7       2.500684  0.000000  2.508838     0.000000          1.180800   \n",
       "8       2.000547  0.000000  2.977269     3.690940          0.000000   \n",
       "9       3.000821  2.021723  2.508838     0.922735          0.000000   \n",
       "10      2.000547  2.021723  0.021485    -1.384103          0.000000   \n",
       "\n",
       "        Northern Renaissance   Baroque  \n",
       "userId                                  \n",
       "1                  -0.652591  0.000000  \n",
       "2                   0.000000  0.000000  \n",
       "3                  -0.978886  1.388913  \n",
       "4                   0.000000  0.000000  \n",
       "5                  -0.326295  0.000000  \n",
       "6                   1.957773  6.944567  \n",
       "7                   0.652591  0.694457  \n",
       "8                   1.631477  0.000000  \n",
       "9                   0.652591  0.000000  \n",
       "10                  0.652591  0.000000  "
      ],
      "text/html": "<div>\n<style scoped>\n    .dataframe tbody tr th:only-of-type {\n        vertical-align: middle;\n    }\n\n    .dataframe tbody tr th {\n        vertical-align: top;\n    }\n\n    .dataframe thead th {\n        text-align: right;\n    }\n</style>\n<table border=\"1\" class=\"dataframe\">\n  <thead>\n    <tr style=\"text-align: right;\">\n      <th></th>\n      <th>age</th>\n      <th>gender</th>\n      <th>country</th>\n      <th>Romanticism</th>\n      <th>High Renaissance</th>\n      <th>Northern Renaissance</th>\n      <th>Baroque</th>\n    </tr>\n    <tr>\n      <th>userId</th>\n      <th></th>\n      <th></th>\n      <th></th>\n      <th></th>\n      <th></th>\n      <th></th>\n      <th></th>\n    </tr>\n  </thead>\n  <tbody>\n    <tr>\n      <th>1</th>\n      <td>0.500137</td>\n      <td>2.021723</td>\n      <td>2.508838</td>\n      <td>0.922735</td>\n      <td>0.000000</td>\n      <td>-0.652591</td>\n      <td>0.000000</td>\n    </tr>\n    <tr>\n      <th>2</th>\n      <td>1.000274</td>\n      <td>0.000000</td>\n      <td>2.508838</td>\n      <td>-0.461368</td>\n      <td>0.000000</td>\n      <td>0.000000</td>\n      <td>0.000000</td>\n    </tr>\n    <tr>\n      <th>3</th>\n      <td>1.500411</td>\n      <td>0.000000</td>\n      <td>2.508838</td>\n      <td>1.384103</td>\n      <td>0.000000</td>\n      <td>-0.978886</td>\n      <td>1.388913</td>\n    </tr>\n    <tr>\n      <th>4</th>\n      <td>1.500411</td>\n      <td>0.000000</td>\n      <td>2.508838</td>\n      <td>1.845470</td>\n      <td>0.000000</td>\n      <td>0.000000</td>\n      <td>0.000000</td>\n    </tr>\n    <tr>\n      <th>5</th>\n      <td>2.000547</td>\n      <td>2.021723</td>\n      <td>2.508838</td>\n      <td>2.306838</td>\n      <td>3.542399</td>\n      <td>-0.326295</td>\n      <td>0.000000</td>\n    </tr>\n    <tr>\n      <th>6</th>\n      <td>2.000547</td>\n      <td>0.000000</td>\n      <td>2.508838</td>\n      <td>2.306838</td>\n      <td>0.000000</td>\n      <td>1.957773</td>\n      <td>6.944567</td>\n    </tr>\n    <tr>\n      <th>7</th>\n      <td>2.500684</td>\n      <td>0.000000</td>\n      <td>2.508838</td>\n      <td>0.000000</td>\n      <td>1.180800</td>\n      <td>0.652591</td>\n      <td>0.694457</td>\n    </tr>\n    <tr>\n      <th>8</th>\n      <td>2.000547</td>\n      <td>0.000000</td>\n      <td>2.977269</td>\n      <td>3.690940</td>\n      <td>0.000000</td>\n      <td>1.631477</td>\n      <td>0.000000</td>\n    </tr>\n    <tr>\n      <th>9</th>\n      <td>3.000821</td>\n      <td>2.021723</td>\n      <td>2.508838</td>\n      <td>0.922735</td>\n      <td>0.000000</td>\n      <td>0.652591</td>\n      <td>0.000000</td>\n    </tr>\n    <tr>\n      <th>10</th>\n      <td>2.000547</td>\n      <td>2.021723</td>\n      <td>0.021485</td>\n      <td>-1.384103</td>\n      <td>0.000000</td>\n      <td>0.652591</td>\n      <td>0.000000</td>\n    </tr>\n  </tbody>\n</table>\n</div>"
     },
     "metadata": {},
     "execution_count": 5
    }
   ],
   "source": [
    "from sklearn.preprocessing import StandardScaler\n",
    "\n",
    "scaled_users = users.copy()\n",
    "scaled_users.drop('userId', axis=1, inplace=True)\n",
    "#scaled_users.set_index('userId')\n",
    "\n",
    "scaler = StandardScaler(with_mean=False, with_std=True)\n",
    "\n",
    "scaled_users = pd.DataFrame(data=scaler.fit_transform(scaled_users), index=users['userId'], columns=scaled_users.columns.to_list())\n",
    "\n",
    "scaled_users.head(10)"
   ]
  },
  {
   "source": [
    "## Buscando el número óptimo de clusters\n",
    "Aplicamos Kmeans con diferente número de clusters y evaluamos cual de ellos tiene el cociente *Davies–Bouldin* más bajo para utilizar ese número de conjuntos"
   ],
   "cell_type": "markdown",
   "metadata": {}
  },
  {
   "cell_type": "code",
   "execution_count": 6,
   "metadata": {},
   "outputs": [],
   "source": [
    "from sklearn.cluster import KMeans\n",
    "from sklearn.metrics import davies_bouldin_score\n",
    "\n",
    "MAX_CLUSTERS = 20\n",
    "davies_boulding = np.zeros(MAX_CLUSTERS-2)\n",
    "\n",
    "for k in range(2, MAX_CLUSTERS): \n",
    "    km = KMeans(init='k-means++', n_clusters=k, random_state=123)\n",
    "    km.fit(scaled_users)\n",
    "    davies_boulding[k-2] = davies_bouldin_score(scaled_users, km.labels_)\n"
   ]
  },
  {
   "cell_type": "code",
   "execution_count": 7,
   "metadata": {},
   "outputs": [
    {
     "output_type": "execute_result",
     "data": {
      "text/plain": [
       "[<matplotlib.lines.Line2D at 0x17333770cd0>]"
      ]
     },
     "metadata": {},
     "execution_count": 7
    },
    {
     "output_type": "display_data",
     "data": {
      "text/plain": "<Figure size 432x288 with 1 Axes>",
      "image/svg+xml": "<?xml version=\"1.0\" encoding=\"utf-8\" standalone=\"no\"?>\r\n<!DOCTYPE svg PUBLIC \"-//W3C//DTD SVG 1.1//EN\"\r\n  \"http://www.w3.org/Graphics/SVG/1.1/DTD/svg11.dtd\">\r\n<!-- Created with matplotlib (https://matplotlib.org/) -->\r\n<svg height=\"248.518125pt\" version=\"1.1\" viewBox=\"0 0 372.103125 248.518125\" width=\"372.103125pt\" xmlns=\"http://www.w3.org/2000/svg\" xmlns:xlink=\"http://www.w3.org/1999/xlink\">\r\n <defs>\r\n  <style type=\"text/css\">\r\n*{stroke-linecap:butt;stroke-linejoin:round;}\r\n  </style>\r\n </defs>\r\n <g id=\"figure_1\">\r\n  <g id=\"patch_1\">\r\n   <path d=\"M 0 248.518125 \r\nL 372.103125 248.518125 \r\nL 372.103125 0 \r\nL 0 0 \r\nz\r\n\" style=\"fill:none;\"/>\r\n  </g>\r\n  <g id=\"axes_1\">\r\n   <g id=\"patch_2\">\r\n    <path d=\"M 30.103125 224.64 \r\nL 364.903125 224.64 \r\nL 364.903125 7.2 \r\nL 30.103125 7.2 \r\nz\r\n\" style=\"fill:#ffffff;\"/>\r\n   </g>\r\n   <g id=\"matplotlib.axis_1\">\r\n    <g id=\"xtick_1\">\r\n     <g id=\"line2d_1\">\r\n      <defs>\r\n       <path d=\"M 0 0 \r\nL 0 3.5 \r\n\" id=\"mda225e0f77\" style=\"stroke:#000000;stroke-width:0.8;\"/>\r\n      </defs>\r\n      <g>\r\n       <use style=\"stroke:#000000;stroke-width:0.8;\" x=\"54.273178\" xlink:href=\"#mda225e0f77\" y=\"224.64\"/>\r\n      </g>\r\n     </g>\r\n     <g id=\"text_1\">\r\n      <!-- 2.5 -->\r\n      <defs>\r\n       <path d=\"M 19.1875 8.296875 \r\nL 53.609375 8.296875 \r\nL 53.609375 0 \r\nL 7.328125 0 \r\nL 7.328125 8.296875 \r\nQ 12.9375 14.109375 22.625 23.890625 \r\nQ 32.328125 33.6875 34.8125 36.53125 \r\nQ 39.546875 41.84375 41.421875 45.53125 \r\nQ 43.3125 49.21875 43.3125 52.78125 \r\nQ 43.3125 58.59375 39.234375 62.25 \r\nQ 35.15625 65.921875 28.609375 65.921875 \r\nQ 23.96875 65.921875 18.8125 64.3125 \r\nQ 13.671875 62.703125 7.8125 59.421875 \r\nL 7.8125 69.390625 \r\nQ 13.765625 71.78125 18.9375 73 \r\nQ 24.125 74.21875 28.421875 74.21875 \r\nQ 39.75 74.21875 46.484375 68.546875 \r\nQ 53.21875 62.890625 53.21875 53.421875 \r\nQ 53.21875 48.921875 51.53125 44.890625 \r\nQ 49.859375 40.875 45.40625 35.40625 \r\nQ 44.1875 33.984375 37.640625 27.21875 \r\nQ 31.109375 20.453125 19.1875 8.296875 \r\nz\r\n\" id=\"DejaVuSans-50\"/>\r\n       <path d=\"M 10.6875 12.40625 \r\nL 21 12.40625 \r\nL 21 0 \r\nL 10.6875 0 \r\nz\r\n\" id=\"DejaVuSans-46\"/>\r\n       <path d=\"M 10.796875 72.90625 \r\nL 49.515625 72.90625 \r\nL 49.515625 64.59375 \r\nL 19.828125 64.59375 \r\nL 19.828125 46.734375 \r\nQ 21.96875 47.46875 24.109375 47.828125 \r\nQ 26.265625 48.1875 28.421875 48.1875 \r\nQ 40.625 48.1875 47.75 41.5 \r\nQ 54.890625 34.8125 54.890625 23.390625 \r\nQ 54.890625 11.625 47.5625 5.09375 \r\nQ 40.234375 -1.421875 26.90625 -1.421875 \r\nQ 22.3125 -1.421875 17.546875 -0.640625 \r\nQ 12.796875 0.140625 7.71875 1.703125 \r\nL 7.71875 11.625 \r\nQ 12.109375 9.234375 16.796875 8.0625 \r\nQ 21.484375 6.890625 26.703125 6.890625 \r\nQ 35.15625 6.890625 40.078125 11.328125 \r\nQ 45.015625 15.765625 45.015625 23.390625 \r\nQ 45.015625 31 40.078125 35.4375 \r\nQ 35.15625 39.890625 26.703125 39.890625 \r\nQ 22.75 39.890625 18.8125 39.015625 \r\nQ 14.890625 38.140625 10.796875 36.28125 \r\nz\r\n\" id=\"DejaVuSans-53\"/>\r\n      </defs>\r\n      <g transform=\"translate(46.321616 239.238437)scale(0.1 -0.1)\">\r\n       <use xlink:href=\"#DejaVuSans-50\"/>\r\n       <use x=\"63.623047\" xlink:href=\"#DejaVuSans-46\"/>\r\n       <use x=\"95.410156\" xlink:href=\"#DejaVuSans-53\"/>\r\n      </g>\r\n     </g>\r\n    </g>\r\n    <g id=\"xtick_2\">\r\n     <g id=\"line2d_2\">\r\n      <g>\r\n       <use style=\"stroke:#000000;stroke-width:0.8;\" x=\"99.032537\" xlink:href=\"#mda225e0f77\" y=\"224.64\"/>\r\n      </g>\r\n     </g>\r\n     <g id=\"text_2\">\r\n      <!-- 5.0 -->\r\n      <defs>\r\n       <path d=\"M 31.78125 66.40625 \r\nQ 24.171875 66.40625 20.328125 58.90625 \r\nQ 16.5 51.421875 16.5 36.375 \r\nQ 16.5 21.390625 20.328125 13.890625 \r\nQ 24.171875 6.390625 31.78125 6.390625 \r\nQ 39.453125 6.390625 43.28125 13.890625 \r\nQ 47.125 21.390625 47.125 36.375 \r\nQ 47.125 51.421875 43.28125 58.90625 \r\nQ 39.453125 66.40625 31.78125 66.40625 \r\nz\r\nM 31.78125 74.21875 \r\nQ 44.046875 74.21875 50.515625 64.515625 \r\nQ 56.984375 54.828125 56.984375 36.375 \r\nQ 56.984375 17.96875 50.515625 8.265625 \r\nQ 44.046875 -1.421875 31.78125 -1.421875 \r\nQ 19.53125 -1.421875 13.0625 8.265625 \r\nQ 6.59375 17.96875 6.59375 36.375 \r\nQ 6.59375 54.828125 13.0625 64.515625 \r\nQ 19.53125 74.21875 31.78125 74.21875 \r\nz\r\n\" id=\"DejaVuSans-48\"/>\r\n      </defs>\r\n      <g transform=\"translate(91.080974 239.238437)scale(0.1 -0.1)\">\r\n       <use xlink:href=\"#DejaVuSans-53\"/>\r\n       <use x=\"63.623047\" xlink:href=\"#DejaVuSans-46\"/>\r\n       <use x=\"95.410156\" xlink:href=\"#DejaVuSans-48\"/>\r\n      </g>\r\n     </g>\r\n    </g>\r\n    <g id=\"xtick_3\">\r\n     <g id=\"line2d_3\">\r\n      <g>\r\n       <use style=\"stroke:#000000;stroke-width:0.8;\" x=\"143.791895\" xlink:href=\"#mda225e0f77\" y=\"224.64\"/>\r\n      </g>\r\n     </g>\r\n     <g id=\"text_3\">\r\n      <!-- 7.5 -->\r\n      <defs>\r\n       <path d=\"M 8.203125 72.90625 \r\nL 55.078125 72.90625 \r\nL 55.078125 68.703125 \r\nL 28.609375 0 \r\nL 18.3125 0 \r\nL 43.21875 64.59375 \r\nL 8.203125 64.59375 \r\nz\r\n\" id=\"DejaVuSans-55\"/>\r\n      </defs>\r\n      <g transform=\"translate(135.840333 239.238437)scale(0.1 -0.1)\">\r\n       <use xlink:href=\"#DejaVuSans-55\"/>\r\n       <use x=\"63.623047\" xlink:href=\"#DejaVuSans-46\"/>\r\n       <use x=\"95.410156\" xlink:href=\"#DejaVuSans-53\"/>\r\n      </g>\r\n     </g>\r\n    </g>\r\n    <g id=\"xtick_4\">\r\n     <g id=\"line2d_4\">\r\n      <g>\r\n       <use style=\"stroke:#000000;stroke-width:0.8;\" x=\"188.551253\" xlink:href=\"#mda225e0f77\" y=\"224.64\"/>\r\n      </g>\r\n     </g>\r\n     <g id=\"text_4\">\r\n      <!-- 10.0 -->\r\n      <defs>\r\n       <path d=\"M 12.40625 8.296875 \r\nL 28.515625 8.296875 \r\nL 28.515625 63.921875 \r\nL 10.984375 60.40625 \r\nL 10.984375 69.390625 \r\nL 28.421875 72.90625 \r\nL 38.28125 72.90625 \r\nL 38.28125 8.296875 \r\nL 54.390625 8.296875 \r\nL 54.390625 0 \r\nL 12.40625 0 \r\nz\r\n\" id=\"DejaVuSans-49\"/>\r\n      </defs>\r\n      <g transform=\"translate(177.418441 239.238437)scale(0.1 -0.1)\">\r\n       <use xlink:href=\"#DejaVuSans-49\"/>\r\n       <use x=\"63.623047\" xlink:href=\"#DejaVuSans-48\"/>\r\n       <use x=\"127.246094\" xlink:href=\"#DejaVuSans-46\"/>\r\n       <use x=\"159.033203\" xlink:href=\"#DejaVuSans-48\"/>\r\n      </g>\r\n     </g>\r\n    </g>\r\n    <g id=\"xtick_5\">\r\n     <g id=\"line2d_5\">\r\n      <g>\r\n       <use style=\"stroke:#000000;stroke-width:0.8;\" x=\"233.310612\" xlink:href=\"#mda225e0f77\" y=\"224.64\"/>\r\n      </g>\r\n     </g>\r\n     <g id=\"text_5\">\r\n      <!-- 12.5 -->\r\n      <g transform=\"translate(222.177799 239.238437)scale(0.1 -0.1)\">\r\n       <use xlink:href=\"#DejaVuSans-49\"/>\r\n       <use x=\"63.623047\" xlink:href=\"#DejaVuSans-50\"/>\r\n       <use x=\"127.246094\" xlink:href=\"#DejaVuSans-46\"/>\r\n       <use x=\"159.033203\" xlink:href=\"#DejaVuSans-53\"/>\r\n      </g>\r\n     </g>\r\n    </g>\r\n    <g id=\"xtick_6\">\r\n     <g id=\"line2d_6\">\r\n      <g>\r\n       <use style=\"stroke:#000000;stroke-width:0.8;\" x=\"278.06997\" xlink:href=\"#mda225e0f77\" y=\"224.64\"/>\r\n      </g>\r\n     </g>\r\n     <g id=\"text_6\">\r\n      <!-- 15.0 -->\r\n      <g transform=\"translate(266.937157 239.238437)scale(0.1 -0.1)\">\r\n       <use xlink:href=\"#DejaVuSans-49\"/>\r\n       <use x=\"63.623047\" xlink:href=\"#DejaVuSans-53\"/>\r\n       <use x=\"127.246094\" xlink:href=\"#DejaVuSans-46\"/>\r\n       <use x=\"159.033203\" xlink:href=\"#DejaVuSans-48\"/>\r\n      </g>\r\n     </g>\r\n    </g>\r\n    <g id=\"xtick_7\">\r\n     <g id=\"line2d_7\">\r\n      <g>\r\n       <use style=\"stroke:#000000;stroke-width:0.8;\" x=\"322.829328\" xlink:href=\"#mda225e0f77\" y=\"224.64\"/>\r\n      </g>\r\n     </g>\r\n     <g id=\"text_7\">\r\n      <!-- 17.5 -->\r\n      <g transform=\"translate(311.696516 239.238437)scale(0.1 -0.1)\">\r\n       <use xlink:href=\"#DejaVuSans-49\"/>\r\n       <use x=\"63.623047\" xlink:href=\"#DejaVuSans-55\"/>\r\n       <use x=\"127.246094\" xlink:href=\"#DejaVuSans-46\"/>\r\n       <use x=\"159.033203\" xlink:href=\"#DejaVuSans-53\"/>\r\n      </g>\r\n     </g>\r\n    </g>\r\n   </g>\r\n   <g id=\"matplotlib.axis_2\">\r\n    <g id=\"ytick_1\">\r\n     <g id=\"line2d_8\">\r\n      <defs>\r\n       <path d=\"M 0 0 \r\nL -3.5 0 \r\n\" id=\"m96e7c20a4a\" style=\"stroke:#000000;stroke-width:0.8;\"/>\r\n      </defs>\r\n      <g>\r\n       <use style=\"stroke:#000000;stroke-width:0.8;\" x=\"30.103125\" xlink:href=\"#m96e7c20a4a\" y=\"203.328593\"/>\r\n      </g>\r\n     </g>\r\n     <g id=\"text_8\">\r\n      <!-- 1.2 -->\r\n      <g transform=\"translate(7.2 207.127812)scale(0.1 -0.1)\">\r\n       <use xlink:href=\"#DejaVuSans-49\"/>\r\n       <use x=\"63.623047\" xlink:href=\"#DejaVuSans-46\"/>\r\n       <use x=\"95.410156\" xlink:href=\"#DejaVuSans-50\"/>\r\n      </g>\r\n     </g>\r\n    </g>\r\n    <g id=\"ytick_2\">\r\n     <g id=\"line2d_9\">\r\n      <g>\r\n       <use style=\"stroke:#000000;stroke-width:0.8;\" x=\"30.103125\" xlink:href=\"#m96e7c20a4a\" y=\"163.151662\"/>\r\n      </g>\r\n     </g>\r\n     <g id=\"text_9\">\r\n      <!-- 1.4 -->\r\n      <defs>\r\n       <path d=\"M 37.796875 64.3125 \r\nL 12.890625 25.390625 \r\nL 37.796875 25.390625 \r\nz\r\nM 35.203125 72.90625 \r\nL 47.609375 72.90625 \r\nL 47.609375 25.390625 \r\nL 58.015625 25.390625 \r\nL 58.015625 17.1875 \r\nL 47.609375 17.1875 \r\nL 47.609375 0 \r\nL 37.796875 0 \r\nL 37.796875 17.1875 \r\nL 4.890625 17.1875 \r\nL 4.890625 26.703125 \r\nz\r\n\" id=\"DejaVuSans-52\"/>\r\n      </defs>\r\n      <g transform=\"translate(7.2 166.950881)scale(0.1 -0.1)\">\r\n       <use xlink:href=\"#DejaVuSans-49\"/>\r\n       <use x=\"63.623047\" xlink:href=\"#DejaVuSans-46\"/>\r\n       <use x=\"95.410156\" xlink:href=\"#DejaVuSans-52\"/>\r\n      </g>\r\n     </g>\r\n    </g>\r\n    <g id=\"ytick_3\">\r\n     <g id=\"line2d_10\">\r\n      <g>\r\n       <use style=\"stroke:#000000;stroke-width:0.8;\" x=\"30.103125\" xlink:href=\"#m96e7c20a4a\" y=\"122.974732\"/>\r\n      </g>\r\n     </g>\r\n     <g id=\"text_10\">\r\n      <!-- 1.6 -->\r\n      <defs>\r\n       <path d=\"M 33.015625 40.375 \r\nQ 26.375 40.375 22.484375 35.828125 \r\nQ 18.609375 31.296875 18.609375 23.390625 \r\nQ 18.609375 15.53125 22.484375 10.953125 \r\nQ 26.375 6.390625 33.015625 6.390625 \r\nQ 39.65625 6.390625 43.53125 10.953125 \r\nQ 47.40625 15.53125 47.40625 23.390625 \r\nQ 47.40625 31.296875 43.53125 35.828125 \r\nQ 39.65625 40.375 33.015625 40.375 \r\nz\r\nM 52.59375 71.296875 \r\nL 52.59375 62.3125 \r\nQ 48.875 64.0625 45.09375 64.984375 \r\nQ 41.3125 65.921875 37.59375 65.921875 \r\nQ 27.828125 65.921875 22.671875 59.328125 \r\nQ 17.53125 52.734375 16.796875 39.40625 \r\nQ 19.671875 43.65625 24.015625 45.921875 \r\nQ 28.375 48.1875 33.59375 48.1875 \r\nQ 44.578125 48.1875 50.953125 41.515625 \r\nQ 57.328125 34.859375 57.328125 23.390625 \r\nQ 57.328125 12.15625 50.6875 5.359375 \r\nQ 44.046875 -1.421875 33.015625 -1.421875 \r\nQ 20.359375 -1.421875 13.671875 8.265625 \r\nQ 6.984375 17.96875 6.984375 36.375 \r\nQ 6.984375 53.65625 15.1875 63.9375 \r\nQ 23.390625 74.21875 37.203125 74.21875 \r\nQ 40.921875 74.21875 44.703125 73.484375 \r\nQ 48.484375 72.75 52.59375 71.296875 \r\nz\r\n\" id=\"DejaVuSans-54\"/>\r\n      </defs>\r\n      <g transform=\"translate(7.2 126.77395)scale(0.1 -0.1)\">\r\n       <use xlink:href=\"#DejaVuSans-49\"/>\r\n       <use x=\"63.623047\" xlink:href=\"#DejaVuSans-46\"/>\r\n       <use x=\"95.410156\" xlink:href=\"#DejaVuSans-54\"/>\r\n      </g>\r\n     </g>\r\n    </g>\r\n    <g id=\"ytick_4\">\r\n     <g id=\"line2d_11\">\r\n      <g>\r\n       <use style=\"stroke:#000000;stroke-width:0.8;\" x=\"30.103125\" xlink:href=\"#m96e7c20a4a\" y=\"82.797801\"/>\r\n      </g>\r\n     </g>\r\n     <g id=\"text_11\">\r\n      <!-- 1.8 -->\r\n      <defs>\r\n       <path d=\"M 31.78125 34.625 \r\nQ 24.75 34.625 20.71875 30.859375 \r\nQ 16.703125 27.09375 16.703125 20.515625 \r\nQ 16.703125 13.921875 20.71875 10.15625 \r\nQ 24.75 6.390625 31.78125 6.390625 \r\nQ 38.8125 6.390625 42.859375 10.171875 \r\nQ 46.921875 13.96875 46.921875 20.515625 \r\nQ 46.921875 27.09375 42.890625 30.859375 \r\nQ 38.875 34.625 31.78125 34.625 \r\nz\r\nM 21.921875 38.8125 \r\nQ 15.578125 40.375 12.03125 44.71875 \r\nQ 8.5 49.078125 8.5 55.328125 \r\nQ 8.5 64.0625 14.71875 69.140625 \r\nQ 20.953125 74.21875 31.78125 74.21875 \r\nQ 42.671875 74.21875 48.875 69.140625 \r\nQ 55.078125 64.0625 55.078125 55.328125 \r\nQ 55.078125 49.078125 51.53125 44.71875 \r\nQ 48 40.375 41.703125 38.8125 \r\nQ 48.828125 37.15625 52.796875 32.3125 \r\nQ 56.78125 27.484375 56.78125 20.515625 \r\nQ 56.78125 9.90625 50.3125 4.234375 \r\nQ 43.84375 -1.421875 31.78125 -1.421875 \r\nQ 19.734375 -1.421875 13.25 4.234375 \r\nQ 6.78125 9.90625 6.78125 20.515625 \r\nQ 6.78125 27.484375 10.78125 32.3125 \r\nQ 14.796875 37.15625 21.921875 38.8125 \r\nz\r\nM 18.3125 54.390625 \r\nQ 18.3125 48.734375 21.84375 45.5625 \r\nQ 25.390625 42.390625 31.78125 42.390625 \r\nQ 38.140625 42.390625 41.71875 45.5625 \r\nQ 45.3125 48.734375 45.3125 54.390625 \r\nQ 45.3125 60.0625 41.71875 63.234375 \r\nQ 38.140625 66.40625 31.78125 66.40625 \r\nQ 25.390625 66.40625 21.84375 63.234375 \r\nQ 18.3125 60.0625 18.3125 54.390625 \r\nz\r\n\" id=\"DejaVuSans-56\"/>\r\n      </defs>\r\n      <g transform=\"translate(7.2 86.59702)scale(0.1 -0.1)\">\r\n       <use xlink:href=\"#DejaVuSans-49\"/>\r\n       <use x=\"63.623047\" xlink:href=\"#DejaVuSans-46\"/>\r\n       <use x=\"95.410156\" xlink:href=\"#DejaVuSans-56\"/>\r\n      </g>\r\n     </g>\r\n    </g>\r\n    <g id=\"ytick_5\">\r\n     <g id=\"line2d_12\">\r\n      <g>\r\n       <use style=\"stroke:#000000;stroke-width:0.8;\" x=\"30.103125\" xlink:href=\"#m96e7c20a4a\" y=\"42.620871\"/>\r\n      </g>\r\n     </g>\r\n     <g id=\"text_12\">\r\n      <!-- 2.0 -->\r\n      <g transform=\"translate(7.2 46.420089)scale(0.1 -0.1)\">\r\n       <use xlink:href=\"#DejaVuSans-50\"/>\r\n       <use x=\"63.623047\" xlink:href=\"#DejaVuSans-46\"/>\r\n       <use x=\"95.410156\" xlink:href=\"#DejaVuSans-48\"/>\r\n      </g>\r\n     </g>\r\n    </g>\r\n   </g>\r\n   <g id=\"line2d_13\">\r\n    <path clip-path=\"url(#p75681c5b59)\" d=\"M 45.321307 17.083636 \r\nL 63.22505 147.399365 \r\nL 81.128793 144.442927 \r\nL 99.032537 168.822093 \r\nL 116.93628 180.533037 \r\nL 134.840023 177.559838 \r\nL 152.743767 190.508976 \r\nL 170.64751 204.993566 \r\nL 188.551253 214.756364 \r\nL 206.454997 180.095068 \r\nL 224.35874 190.159581 \r\nL 242.262483 203.442858 \r\nL 260.166227 207.403784 \r\nL 278.06997 198.263999 \r\nL 295.973713 211.588709 \r\nL 313.877457 194.691124 \r\nL 331.7812 188.937435 \r\nL 349.684943 204.064437 \r\n\" style=\"fill:none;stroke:#1f77b4;stroke-linecap:square;stroke-width:1.5;\"/>\r\n   </g>\r\n   <g id=\"patch_3\">\r\n    <path d=\"M 30.103125 224.64 \r\nL 30.103125 7.2 \r\n\" style=\"fill:none;stroke:#000000;stroke-linecap:square;stroke-linejoin:miter;stroke-width:0.8;\"/>\r\n   </g>\r\n   <g id=\"patch_4\">\r\n    <path d=\"M 364.903125 224.64 \r\nL 364.903125 7.2 \r\n\" style=\"fill:none;stroke:#000000;stroke-linecap:square;stroke-linejoin:miter;stroke-width:0.8;\"/>\r\n   </g>\r\n   <g id=\"patch_5\">\r\n    <path d=\"M 30.103125 224.64 \r\nL 364.903125 224.64 \r\n\" style=\"fill:none;stroke:#000000;stroke-linecap:square;stroke-linejoin:miter;stroke-width:0.8;\"/>\r\n   </g>\r\n   <g id=\"patch_6\">\r\n    <path d=\"M 30.103125 7.2 \r\nL 364.903125 7.2 \r\n\" style=\"fill:none;stroke:#000000;stroke-linecap:square;stroke-linejoin:miter;stroke-width:0.8;\"/>\r\n   </g>\r\n  </g>\r\n </g>\r\n <defs>\r\n  <clipPath id=\"p75681c5b59\">\r\n   <rect height=\"217.44\" width=\"334.8\" x=\"30.103125\" y=\"7.2\"/>\r\n  </clipPath>\r\n </defs>\r\n</svg>\r\n",
      "image/png": "[encoded data removed]"
     },
     "metadata": {
      "needs_background": "light"
     }
    }
   ],
   "source": [
    "import matplotlib.pyplot as plt\n",
    "\n",
    "plt.plot(range(2, MAX_CLUSTERS), davies_boulding)"
   ]
  },
  {
   "source": [
    "## Creamos el número óptimo de clusters"
   ],
   "cell_type": "markdown",
   "metadata": {}
  },
  {
   "cell_type": "code",
   "execution_count": 8,
   "metadata": {},
   "outputs": [
    {
     "output_type": "execute_result",
     "data": {
      "text/plain": [
       "KMeans(algorithm='auto', copy_x=True, init='random', max_iter=300,\n",
       "       n_clusters=10, n_init=10, n_jobs=None, precompute_distances='auto',\n",
       "       random_state=333, tol=0.0001, verbose=0)"
      ]
     },
     "metadata": {},
     "execution_count": 8
    }
   ],
   "source": [
    "# Realizamos el clustering con el número óptimo de clusters\n",
    "km = KMeans(init='k-means++', n_clusters=davies_boulding.argmin()+2, random_state=333)\n",
    "km.fit(scaled_users)\n"
   ]
  },
  {
   "source": [
    "# Etiquetado de los clusters con FCA\n",
    "Primero, vamos a recabar todos los datos en un nuevo DataFrame que incluya a que cluster pertenece cada usuario"
   ],
   "cell_type": "markdown",
   "metadata": {}
  },
  {
   "cell_type": "code",
   "execution_count": 9,
   "metadata": {},
   "outputs": [
    {
     "output_type": "execute_result",
     "data": {
      "text/plain": [
       "   userId    age  gender        country  Romanticism  High Renaissance  \\\n",
       "0       1  55-64    male          Spain          2.0               0.0   \n",
       "1       2  25-34  female          Spain         -1.0               0.0   \n",
       "2       3  18-24  female          Spain          3.0               0.0   \n",
       "3       4  18-24  female          Spain          4.0               0.0   \n",
       "4       5  35-44    male          Spain          5.0               3.0   \n",
       "5       6  35-44  female          Spain          5.0               0.0   \n",
       "6       7  65-70  female          Spain          0.0               1.0   \n",
       "7       8  35-44  female  United States          8.0               0.0   \n",
       "8       9  45-54    male          Spain          2.0               0.0   \n",
       "9      10  35-44    male          Other         -3.0               0.0   \n",
       "\n",
       "   Northern Renaissance  Baroque  cluster  \n",
       "0                  -2.0      0.0        2  \n",
       "1                   0.0      0.0        1  \n",
       "2                  -3.0      2.0        4  \n",
       "3                   0.0      0.0        4  \n",
       "4                  -1.0      0.0        3  \n",
       "5                   6.0     10.0        7  \n",
       "6                   2.0      1.0        8  \n",
       "7                   5.0      0.0        4  \n",
       "8                   2.0      0.0        6  \n",
       "9                   2.0      0.0        0  "
      ],
      "text/html": "<div>\n<style scoped>\n    .dataframe tbody tr th:only-of-type {\n        vertical-align: middle;\n    }\n\n    .dataframe tbody tr th {\n        vertical-align: top;\n    }\n\n    .dataframe thead th {\n        text-align: right;\n    }\n</style>\n<table border=\"1\" class=\"dataframe\">\n  <thead>\n    <tr style=\"text-align: right;\">\n      <th></th>\n      <th>userId</th>\n      <th>age</th>\n      <th>gender</th>\n      <th>country</th>\n      <th>Romanticism</th>\n      <th>High Renaissance</th>\n      <th>Northern Renaissance</th>\n      <th>Baroque</th>\n      <th>cluster</th>\n    </tr>\n  </thead>\n  <tbody>\n    <tr>\n      <th>0</th>\n      <td>1</td>\n      <td>55-64</td>\n      <td>male</td>\n      <td>Spain</td>\n      <td>2.0</td>\n      <td>0.0</td>\n      <td>-2.0</td>\n      <td>0.0</td>\n      <td>2</td>\n    </tr>\n    <tr>\n      <th>1</th>\n      <td>2</td>\n      <td>25-34</td>\n      <td>female</td>\n      <td>Spain</td>\n      <td>-1.0</td>\n      <td>0.0</td>\n      <td>0.0</td>\n      <td>0.0</td>\n      <td>1</td>\n    </tr>\n    <tr>\n      <th>2</th>\n      <td>3</td>\n      <td>18-24</td>\n      <td>female</td>\n      <td>Spain</td>\n      <td>3.0</td>\n      <td>0.0</td>\n      <td>-3.0</td>\n      <td>2.0</td>\n      <td>4</td>\n    </tr>\n    <tr>\n      <th>3</th>\n      <td>4</td>\n      <td>18-24</td>\n      <td>female</td>\n      <td>Spain</td>\n      <td>4.0</td>\n      <td>0.0</td>\n      <td>0.0</td>\n      <td>0.0</td>\n      <td>4</td>\n    </tr>\n    <tr>\n      <th>4</th>\n      <td>5</td>\n      <td>35-44</td>\n      <td>male</td>\n      <td>Spain</td>\n      <td>5.0</td>\n      <td>3.0</td>\n      <td>-1.0</td>\n      <td>0.0</td>\n      <td>3</td>\n    </tr>\n    <tr>\n      <th>5</th>\n      <td>6</td>\n      <td>35-44</td>\n      <td>female</td>\n      <td>Spain</td>\n      <td>5.0</td>\n      <td>0.0</td>\n      <td>6.0</td>\n      <td>10.0</td>\n      <td>7</td>\n    </tr>\n    <tr>\n      <th>6</th>\n      <td>7</td>\n      <td>65-70</td>\n      <td>female</td>\n      <td>Spain</td>\n      <td>0.0</td>\n      <td>1.0</td>\n      <td>2.0</td>\n      <td>1.0</td>\n      <td>8</td>\n    </tr>\n    <tr>\n      <th>7</th>\n      <td>8</td>\n      <td>35-44</td>\n      <td>female</td>\n      <td>United States</td>\n      <td>8.0</td>\n      <td>0.0</td>\n      <td>5.0</td>\n      <td>0.0</td>\n      <td>4</td>\n    </tr>\n    <tr>\n      <th>8</th>\n      <td>9</td>\n      <td>45-54</td>\n      <td>male</td>\n      <td>Spain</td>\n      <td>2.0</td>\n      <td>0.0</td>\n      <td>2.0</td>\n      <td>0.0</td>\n      <td>6</td>\n    </tr>\n    <tr>\n      <th>9</th>\n      <td>10</td>\n      <td>35-44</td>\n      <td>male</td>\n      <td>Other</td>\n      <td>-3.0</td>\n      <td>0.0</td>\n      <td>2.0</td>\n      <td>0.0</td>\n      <td>0</td>\n    </tr>\n  </tbody>\n</table>\n</div>"
     },
     "metadata": {},
     "execution_count": 9
    }
   ],
   "source": [
    "clustered_users = users_val.copy()\n",
    "clustered_users['cluster'] = km.labels_\n",
    "clustered_users.head(10)"
   ]
  },
  {
   "source": [
    "### *Convertimos las variables categóricas en otras de tipo binario*\n",
    "Para poder generar un concept lattice hemos de partir de un conjunto de variables binarias. Para ello hemos de pasar de variables categóricas a variables binarias mediante funciones de pertenencia a cada posible valor de las mismas."
   ],
   "cell_type": "markdown",
   "metadata": {}
  },
  {
   "cell_type": "code",
   "execution_count": 10,
   "metadata": {},
   "outputs": [],
   "source": [
    "def categoricColumnsToBinary(df, columns=list()):\n",
    "    for column in columns:\n",
    "        for key in df[column].unique():\n",
    "            df[key] = ''\n",
    "            df.loc[df[column] == key, key] = 'X'\n",
    "\n",
    "        df.drop([column], axis=1, inplace=True)\n"
   ]
  },
  {
   "cell_type": "code",
   "execution_count": 11,
   "metadata": {},
   "outputs": [],
   "source": [
    "def columnToBinaryByCondition(df, columns=list(), cond=(lambda x : True)):\n",
    "    for column in columns:\n",
    "        df.loc[cond(df[column]), column] = 'X'\n",
    "        df.loc[df[column] != 'X', column] = ''\n",
    "        "
   ]
  },
  {
   "cell_type": "code",
   "execution_count": 12,
   "metadata": {},
   "outputs": [
    {
     "output_type": "execute_result",
     "data": {
      "text/plain": [
       "   userId Romanticism High Renaissance Northern Renaissance Baroque  cluster  \\\n",
       "0       1           X                                                      2   \n",
       "1       2                                                                  1   \n",
       "2       3           X                                             X        4   \n",
       "3       4           X                                                      4   \n",
       "4       5           X                X                                     3   \n",
       "5       6           X                                     X       X        7   \n",
       "6       7                            X                    X       X        8   \n",
       "7       8           X                                     X                4   \n",
       "8       9           X                                     X                6   \n",
       "9      10                                                 X                0   \n",
       "\n",
       "  adult youg-adult senior young  ... Mexico France Japan Brazil Italy Germany  \\\n",
       "0     X                          ...                                            \n",
       "1                X               ...                                            \n",
       "2                X               ...                                            \n",
       "3                X               ...                                            \n",
       "4     X                          ...                                            \n",
       "5     X                          ...                                            \n",
       "6                       X        ...                                            \n",
       "7     X                          ...                                            \n",
       "8     X                          ...                                            \n",
       "9     X                          ...                                            \n",
       "\n",
       "  Argentina Canada male female  \n",
       "0                     X         \n",
       "1                            X  \n",
       "2                            X  \n",
       "3                            X  \n",
       "4                     X         \n",
       "5                            X  \n",
       "6                            X  \n",
       "7                            X  \n",
       "8                     X         \n",
       "9                     X         \n",
       "\n",
       "[10 rows x 23 columns]"
      ],
      "text/html": "<div>\n<style scoped>\n    .dataframe tbody tr th:only-of-type {\n        vertical-align: middle;\n    }\n\n    .dataframe tbody tr th {\n        vertical-align: top;\n    }\n\n    .dataframe thead th {\n        text-align: right;\n    }\n</style>\n<table border=\"1\" class=\"dataframe\">\n  <thead>\n    <tr style=\"text-align: right;\">\n      <th></th>\n      <th>userId</th>\n      <th>Romanticism</th>\n      <th>High Renaissance</th>\n      <th>Northern Renaissance</th>\n      <th>Baroque</th>\n      <th>cluster</th>\n      <th>adult</th>\n      <th>youg-adult</th>\n      <th>senior</th>\n      <th>young</th>\n      <th>...</th>\n      <th>Mexico</th>\n      <th>France</th>\n      <th>Japan</th>\n      <th>Brazil</th>\n      <th>Italy</th>\n      <th>Germany</th>\n      <th>Argentina</th>\n      <th>Canada</th>\n      <th>male</th>\n      <th>female</th>\n    </tr>\n  </thead>\n  <tbody>\n    <tr>\n      <th>0</th>\n      <td>1</td>\n      <td>X</td>\n      <td></td>\n      <td></td>\n      <td></td>\n      <td>2</td>\n      <td>X</td>\n      <td></td>\n      <td></td>\n      <td></td>\n      <td>...</td>\n      <td></td>\n      <td></td>\n      <td></td>\n      <td></td>\n      <td></td>\n      <td></td>\n      <td></td>\n      <td></td>\n      <td>X</td>\n      <td></td>\n    </tr>\n    <tr>\n      <th>1</th>\n      <td>2</td>\n      <td></td>\n      <td></td>\n      <td></td>\n      <td></td>\n      <td>1</td>\n      <td></td>\n      <td>X</td>\n      <td></td>\n      <td></td>\n      <td>...</td>\n      <td></td>\n      <td></td>\n      <td></td>\n      <td></td>\n      <td></td>\n      <td></td>\n      <td></td>\n      <td></td>\n      <td></td>\n      <td>X</td>\n    </tr>\n    <tr>\n      <th>2</th>\n      <td>3</td>\n      <td>X</td>\n      <td></td>\n      <td></td>\n      <td>X</td>\n      <td>4</td>\n      <td></td>\n      <td>X</td>\n      <td></td>\n      <td></td>\n      <td>...</td>\n      <td></td>\n      <td></td>\n      <td></td>\n      <td></td>\n      <td></td>\n      <td></td>\n      <td></td>\n      <td></td>\n      <td></td>\n      <td>X</td>\n    </tr>\n    <tr>\n      <th>3</th>\n      <td>4</td>\n      <td>X</td>\n      <td></td>\n      <td></td>\n      <td></td>\n      <td>4</td>\n      <td></td>\n      <td>X</td>\n      <td></td>\n      <td></td>\n      <td>...</td>\n      <td></td>\n      <td></td>\n      <td></td>\n      <td></td>\n      <td></td>\n      <td></td>\n      <td></td>\n      <td></td>\n      <td></td>\n      <td>X</td>\n    </tr>\n    <tr>\n      <th>4</th>\n      <td>5</td>\n      <td>X</td>\n      <td>X</td>\n      <td></td>\n      <td></td>\n      <td>3</td>\n      <td>X</td>\n      <td></td>\n      <td></td>\n      <td></td>\n      <td>...</td>\n      <td></td>\n      <td></td>\n      <td></td>\n      <td></td>\n      <td></td>\n      <td></td>\n      <td></td>\n      <td></td>\n      <td>X</td>\n      <td></td>\n    </tr>\n    <tr>\n      <th>5</th>\n      <td>6</td>\n      <td>X</td>\n      <td></td>\n      <td>X</td>\n      <td>X</td>\n      <td>7</td>\n      <td>X</td>\n      <td></td>\n      <td></td>\n      <td></td>\n      <td>...</td>\n      <td></td>\n      <td></td>\n      <td></td>\n      <td></td>\n      <td></td>\n      <td></td>\n      <td></td>\n      <td></td>\n      <td></td>\n      <td>X</td>\n    </tr>\n    <tr>\n      <th>6</th>\n      <td>7</td>\n      <td></td>\n      <td>X</td>\n      <td>X</td>\n      <td>X</td>\n      <td>8</td>\n      <td></td>\n      <td></td>\n      <td>X</td>\n      <td></td>\n      <td>...</td>\n      <td></td>\n      <td></td>\n      <td></td>\n      <td></td>\n      <td></td>\n      <td></td>\n      <td></td>\n      <td></td>\n      <td></td>\n      <td>X</td>\n    </tr>\n    <tr>\n      <th>7</th>\n      <td>8</td>\n      <td>X</td>\n      <td></td>\n      <td>X</td>\n      <td></td>\n      <td>4</td>\n      <td>X</td>\n      <td></td>\n      <td></td>\n      <td></td>\n      <td>...</td>\n      <td></td>\n      <td></td>\n      <td></td>\n      <td></td>\n      <td></td>\n      <td></td>\n      <td></td>\n      <td></td>\n      <td></td>\n      <td>X</td>\n    </tr>\n    <tr>\n      <th>8</th>\n      <td>9</td>\n      <td>X</td>\n      <td></td>\n      <td>X</td>\n      <td></td>\n      <td>6</td>\n      <td>X</td>\n      <td></td>\n      <td></td>\n      <td></td>\n      <td>...</td>\n      <td></td>\n      <td></td>\n      <td></td>\n      <td></td>\n      <td></td>\n      <td></td>\n      <td></td>\n      <td></td>\n      <td>X</td>\n      <td></td>\n    </tr>\n    <tr>\n      <th>9</th>\n      <td>10</td>\n      <td></td>\n      <td></td>\n      <td>X</td>\n      <td></td>\n      <td>0</td>\n      <td>X</td>\n      <td></td>\n      <td></td>\n      <td></td>\n      <td>...</td>\n      <td></td>\n      <td></td>\n      <td></td>\n      <td></td>\n      <td></td>\n      <td></td>\n      <td></td>\n      <td></td>\n      <td>X</td>\n      <td></td>\n    </tr>\n  </tbody>\n</table>\n<p>10 rows × 23 columns</p>\n</div>"
     },
     "metadata": {},
     "execution_count": 12
    }
   ],
   "source": [
    "clustered_users_context = clustered_users.copy()\n",
    "\n",
    "age = clustered_users_context['age'].unique()\n",
    "age.sort()\n",
    "age = age.reshape(3,3)\n",
    "ageRanges = { 'young' : [\"0-12\", \"13-17\"],\n",
    "              'youg-adult': [\"18-24\",\"25-34\"],\n",
    "              'adult' : [\"35-44\",\"45-54\",\"55-64\"],\n",
    "              'senior' : [\"65-70\", \"70+\"]}\n",
    "\n",
    "ranges = {}\n",
    "for key in ageRanges:\n",
    "    for i in ageRanges[key]:\n",
    "        ranges[i] = key\n",
    "\n",
    "for key in ranges:\n",
    "    clustered_users_context.replace(key, ranges[key], inplace=True)\n",
    "\n",
    "categoricColumnsToBinary(clustered_users_context, ['age', 'country', 'gender'])\n",
    "columnToBinaryByCondition(clustered_users_context, columns=Prado_artworks_wikidata['Category'].unique(), cond=(lambda x: x > 0.))\n",
    "\n",
    "clustered_users_context.head(10)"
   ]
  },
  {
   "source": [
    "### *Creamos los retículos de cada cluster a partir del contexto formal anterior*"
   ],
   "cell_type": "markdown",
   "metadata": {}
  },
  {
   "cell_type": "code",
   "execution_count": 13,
   "metadata": {},
   "outputs": [],
   "source": [
    "from concepts import Context\n",
    "\n",
    "clusterLattices = list()\n",
    "\n",
    "for c in clustered_users_context['cluster'].unique():\n",
    "    # Separamos las filas que pertenecen al cluster\n",
    "    clusterContext = clustered_users_context[clustered_users_context['cluster'] == c]\n",
    "    clusterContext.drop(['cluster'], axis=1, inplace=True)\n",
    "    # Generamos el retículo correspondiente al cluster\n",
    "    clusterLattices.append(Context.fromstring(clusterContext.to_csv(index=False), frmat='csv'))"
   ]
  },
  {
   "cell_type": "code",
   "execution_count": 14,
   "metadata": {},
   "outputs": [
    {
     "output_type": "stream",
     "name": "stdout",
     "text": [
      "\nCluster 0:\n('Romanticism', 'High Renaissance', 'Northern Renaissance', 'Baroque', 'adult', 'youg-adult', 'senior', 'young', 'Spain', 'United States', 'Other', 'Mexico', 'France', 'Japan', 'Brazil', 'Italy', 'Germany', 'Argentina', 'Canada', 'male', 'female') 0\n('Romanticism', 'Northern Renaissance', 'Baroque', 'adult', 'Spain', 'male') 1\n('Romanticism', 'Northern Renaissance', 'Baroque', 'youg-adult', 'Japan', 'male') 1\n('Northern Renaissance', 'adult', 'Italy', 'male') 1\n('Northern Renaissance', 'Baroque', 'adult', 'France', 'male') 1\n('Northern Renaissance', 'Baroque', 'youg-adult', 'Canada', 'male') 1\n('Romanticism', 'Northern Renaissance', 'Baroque', 'adult', 'Japan', 'male') 1\n('Romanticism', 'Northern Renaissance', 'Baroque', 'youg-adult', 'France', 'male') 1\n('Baroque', 'youg-adult', 'United States', 'male') 1\n('Romanticism', 'Northern Renaissance', 'adult', 'France', 'male') 1\n('Romanticism', 'Northern Renaissance', 'adult', 'United States', 'male') 1\n('High Renaissance', 'Northern Renaissance', 'youg-adult', 'France', 'male') 1\n('Northern Renaissance', 'Baroque', 'youg-adult', 'Italy', 'male') 1\n('Romanticism', 'youg-adult', 'Canada', 'male') 1\n('Northern Renaissance', 'youg-adult', 'Mexico', 'male') 1\n('Romanticism', 'Northern Renaissance', 'Baroque', 'adult', 'male') 2\n('Romanticism', 'Northern Renaissance', 'Baroque', 'Japan', 'male') 2\n('Romanticism', 'Northern Renaissance', 'Baroque', 'youg-adult', 'male') 2\n('Northern Renaissance', 'Baroque', 'France', 'male') 2\n('Northern Renaissance', 'adult', 'France', 'male') 2\n('Romanticism', 'Baroque', 'youg-adult', 'France', 'male') 2\n('Romanticism', 'Northern Renaissance', 'France', 'male') 2\n('Northern Renaissance', 'youg-adult', 'France', 'male') 2\n('Romanticism', 'adult', 'United States', 'male') 2\n('Northern Renaissance', 'youg-adult', 'Spain', 'male') 2\n('Northern Renaissance', 'Baroque', 'adult', 'male') 3\n('Romanticism', 'Northern Renaissance', 'adult', 'Spain', 'male') 3\n('Baroque', 'adult', 'Spain', 'male') 3\n('Romanticism', 'Baroque', 'youg-adult', 'male') 3\n('Romanticism', 'youg-adult', 'Spain', 'male') 3\n('Romanticism', 'adult', 'Spain', 'male') 4\n('Romanticism', 'Northern Renaissance', 'Baroque', 'male') 4\n('Northern Renaissance', 'Baroque', 'youg-adult', 'male') 4\n('Northern Renaissance', 'adult', 'Spain', 'male') 5\n('Romanticism', 'Northern Renaissance', 'adult', 'male') 6\n\nCluster 1:\n('Romanticism', 'High Renaissance', 'Northern Renaissance', 'Baroque', 'adult', 'youg-adult', 'senior', 'young', 'Spain', 'United States', 'Other', 'Mexico', 'France', 'Japan', 'Brazil', 'Italy', 'Germany', 'Argentina', 'Canada', 'male', 'female') 0\n('Romanticism', 'Northern Renaissance', 'youg-adult', 'Italy', 'female') 1\n('Northern Renaissance', 'youg-adult', 'Brazil', 'female') 1\n('Northern Renaissance', 'adult', 'France', 'female') 1\n('Romanticism', 'youg-adult', 'France', 'female') 1\n('Northern Renaissance', 'adult', 'Spain', 'female') 2\n\nCluster 2:\n('Romanticism', 'High Renaissance', 'Northern Renaissance', 'Baroque', 'adult', 'youg-adult', 'senior', 'young', 'Spain', 'United States', 'Other', 'Mexico', 'France', 'Japan', 'Brazil', 'Italy', 'Germany', 'Argentina', 'Canada', 'male', 'female') 0\n('Romanticism', 'Baroque', 'adult', 'Brazil', 'female') 1\n('Baroque', 'adult', 'Spain', 'female') 1\n('Romanticism', 'Northern Renaissance', 'Baroque', 'youg-adult', 'Spain', 'female') 1\n('Romanticism', 'Northern Renaissance', 'Baroque', 'adult', 'United States', 'female') 1\n('Romanticism', 'Northern Renaissance', 'youg-adult', 'Argentina', 'female') 1\n('Romanticism', 'Baroque', 'adult', 'Italy', 'female') 1\n('Romanticism', 'Baroque', 'youg-adult', 'Spain', 'female') 2\n('Romanticism', 'Northern Renaissance', 'adult', 'United States', 'female') 2\n('Romanticism', 'Baroque', 'adult', 'United States', 'female') 2\n('Romanticism', 'Northern Renaissance', 'Baroque', 'female') 2\n('Romanticism', 'Northern Renaissance', 'youg-adult', 'female') 2\n('Romanticism', 'youg-adult', 'Spain', 'female') 3\n('Romanticism', 'adult', 'United States', 'female') 3\n('Romanticism', 'adult', 'Spain', 'female') 3\n('Romanticism', 'Baroque', 'adult', 'female') 4\n\nCluster 3:\n('Romanticism', 'High Renaissance', 'Northern Renaissance', 'Baroque', 'adult', 'youg-adult', 'senior', 'young', 'Spain', 'United States', 'Other', 'Mexico', 'France', 'Japan', 'Brazil', 'Italy', 'Germany', 'Argentina', 'Canada', 'male', 'female') 0\n('Romanticism', 'High Renaissance', 'adult', 'Spain', 'male') 1\n('High Renaissance', 'Baroque', 'youg-adult', 'Japan', 'female') 1\n('Romanticism', 'High Renaissance', 'Northern Renaissance', 'young', 'Other', 'male') 1\n('Romanticism', 'High Renaissance', 'Northern Renaissance', 'Baroque', 'adult', 'Germany', 'male') 1\n('High Renaissance', 'Northern Renaissance', 'youg-adult', 'Spain', 'female') 1\n('High Renaissance', 'Northern Renaissance', 'adult', 'United States', 'male') 1\n('Romanticism', 'High Renaissance', 'Northern Renaissance', 'Baroque', 'youg-adult', 'Italy', 'male') 1\n('Romanticism', 'High Renaissance', 'Northern Renaissance', 'Baroque', 'senior', 'Spain', 'female') 1\n('High Renaissance', 'Baroque', 'senior', 'Argentina', 'male') 1\n('Romanticism', 'High Renaissance', 'adult', 'male') 2\n('High Renaissance', 'youg-adult', 'Japan', 'female') 2\n('High Renaissance', 'Northern Renaissance', 'adult', 'male') 2\n('Romanticism', 'High Renaissance', 'Northern Renaissance', 'Baroque', 'male') 2\n('High Renaissance', 'Northern Renaissance', 'Spain', 'female') 2\n('Romanticism', 'High Renaissance', 'Northern Renaissance', 'male') 3\n('Romanticism', 'High Renaissance', 'Northern Renaissance', 'Baroque') 3\n\nCluster 4:\n('Romanticism', 'High Renaissance', 'Northern Renaissance', 'Baroque', 'adult', 'youg-adult', 'senior', 'young', 'Spain', 'United States', 'Other', 'Mexico', 'France', 'Japan', 'Brazil', 'Italy', 'Germany', 'Argentina', 'Canada', 'male', 'female') 0\n('Romanticism', 'Northern Renaissance', 'Baroque', 'adult', 'Spain', 'female') 1\n('Romanticism', 'Northern Renaissance', 'Baroque', 'senior', 'France', 'male') 1\n('Romanticism', 'Northern Renaissance', 'Baroque', 'adult', 'Japan', 'female') 1\n('Romanticism', 'Northern Renaissance', 'Baroque', 'adult', 'female') 2\n\nCluster 5:\n('Romanticism', 'High Renaissance', 'Northern Renaissance', 'Baroque', 'adult', 'youg-adult', 'senior', 'young', 'Spain', 'United States', 'Other', 'Mexico', 'France', 'Japan', 'Brazil', 'Italy', 'Germany', 'Argentina', 'Canada', 'male', 'female') 0\n('High Renaissance', 'Northern Renaissance', 'Baroque', 'senior', 'Spain', 'female') 1\n('Romanticism', 'senior', 'Mexico', 'female') 1\n('Northern Renaissance', 'Baroque', 'adult', 'Spain', 'female') 1\n('Northern Renaissance', 'young', 'Spain', 'female') 1\n('Romanticism', 'Northern Renaissance', 'adult', 'Germany', 'female') 1\n('Northern Renaissance', 'adult', 'Japan', 'female') 1\n('Romanticism', 'young', 'Spain', 'female') 1\n('Romanticism', 'Northern Renaissance', 'adult', 'Spain', 'female') 1\n('Romanticism', 'Northern Renaissance', 'adult', 'France', 'female') 1\n('Baroque', 'adult', 'France', 'female') 1\n('Northern Renaissance', 'adult', 'Argentina', 'female') 1\n('Northern Renaissance', 'Baroque', 'Spain', 'female') 2\n('Northern Renaissance', 'adult', 'Germany', 'female') 2\n('Romanticism', 'adult', 'France', 'female') 2\n('Romanticism', 'Northern Renaissance', 'adult', 'female') 3\n('Northern Renaissance', 'adult', 'Spain', 'female') 4\n\nCluster 6:\n('Romanticism', 'High Renaissance', 'Northern Renaissance', 'Baroque', 'adult', 'youg-adult', 'senior', 'young', 'Spain', 'United States', 'Other', 'Mexico', 'France', 'Japan', 'Brazil', 'Italy', 'Germany', 'Argentina', 'Canada', 'male', 'female') 0\n('Romanticism', 'Northern Renaissance', 'adult', 'Spain', 'male') 1\n('Baroque', 'young', 'France', 'male') 1\n('Northern Renaissance', 'senior', 'Italy', 'male') 1\n('Romanticism', 'Northern Renaissance', 'Baroque', 'adult', 'Italy', 'male') 1\n('Northern Renaissance', 'young', 'Spain', 'male') 1\n('Romanticism', 'Baroque', 'adult', 'Spain', 'male') 1\n('Romanticism', 'adult', 'Mexico', 'male') 1\n('Romanticism', 'young', 'Mexico', 'male') 1\n('Romanticism', 'young', 'United States', 'male') 1\n('Romanticism', 'Northern Renaissance', 'adult', 'male') 2\n('Romanticism', 'Baroque', 'adult', 'Italy', 'male') 2\n('Baroque', 'adult', 'Spain', 'male') 2\n('Romanticism', 'adult', 'Spain', 'male') 3\n('Romanticism', 'Baroque', 'adult', 'male') 3\n\nCluster 7:\n('Romanticism', 'High Renaissance', 'Northern Renaissance', 'Baroque', 'adult', 'youg-adult', 'senior', 'young', 'Spain', 'United States', 'Other', 'Mexico', 'France', 'Japan', 'Brazil', 'Italy', 'Germany', 'Argentina', 'Canada', 'male', 'female') 0\n('Romanticism', 'young', 'Other', 'male') 1\n('Romanticism', 'Northern Renaissance', 'adult', 'Other', 'male') 1\n('Romanticism', 'Northern Renaissance', 'youg-adult', 'Other', 'male') 1\n('Baroque', 'youg-adult', 'Other', 'male') 1\n('Romanticism', 'senior', 'Other', 'male') 1\n('Northern Renaissance', 'youg-adult', 'Other', 'male') 2\n('Baroque', 'adult', 'Other', 'male') 2\n('Romanticism', 'Northern Renaissance', 'Other', 'male') 2\n('Romanticism', 'youg-adult', 'Other', 'male') 2\n('Northern Renaissance', 'adult', 'Other', 'male') 4\n\nCluster 8:\n('Romanticism', 'High Renaissance', 'Northern Renaissance', 'Baroque', 'adult', 'youg-adult', 'senior', 'young', 'Spain', 'United States', 'Other', 'Mexico', 'France', 'Japan', 'Brazil', 'Italy', 'Germany', 'Argentina', 'Canada', 'male', 'female') 0\n('Northern Renaissance', 'adult', 'Spain', 'male') 1\n('High Renaissance', 'Northern Renaissance', 'youg-adult', 'Mexico', 'female') 1\n('Northern Renaissance', 'youg-adult', 'Spain', 'female') 1\n('Northern Renaissance', 'adult', 'Italy', 'male') 1\n('High Renaissance', 'youg-adult', 'Spain', 'male') 1\n\nCluster 9:\n('Romanticism', 'High Renaissance', 'Northern Renaissance', 'Baroque', 'adult', 'youg-adult', 'senior', 'young', 'Spain', 'United States', 'Other', 'Mexico', 'France', 'Japan', 'Brazil', 'Italy', 'Germany', 'Argentina', 'Canada', 'male', 'female') 0\n('Romanticism', 'Northern Renaissance', 'Baroque', 'adult', 'Other', 'female') 1\n('Romanticism', 'High Renaissance', 'Northern Renaissance', 'adult', 'Other', 'female') 1\n('Northern Renaissance', 'youg-adult', 'Other', 'female') 1\n('Romanticism', 'Northern Renaissance', 'adult', 'Other', 'female') 2\n('Baroque', 'adult', 'Other', 'female') 2\n('Romanticism', 'adult', 'Other', 'female') 4\n('Northern Renaissance', 'adult', 'Other', 'female') 5\n"
     ]
    }
   ],
   "source": [
    "i = 0\n",
    "for lattice in clusterLattices:\n",
    "    print('\\nCluster %i:' % (i))\n",
    "    for extent, intent in lattice.lattice:\n",
    "        if len(intent) >= 4:\n",
    "            print(intent, len(extent))\n",
    "    i+=1\n"
   ]
  },
  {
   "cell_type": "code",
   "execution_count": null,
   "metadata": {},
   "outputs": [],
   "source": []
  }
 ]
}